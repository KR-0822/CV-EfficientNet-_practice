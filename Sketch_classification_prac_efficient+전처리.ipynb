{
  "nbformat": 4,
  "nbformat_minor": 0,
  "metadata": {
    "colab": {
      "provenance": [],
      "authorship_tag": "ABX9TyPyuUwAm+lieT0XRYyOZ/mq",
      "include_colab_link": true
    },
    "kernelspec": {
      "name": "python3",
      "display_name": "Python 3"
    },
    "language_info": {
      "name": "python"
    },
    "accelerator": "GPU",
    "gpuClass": "standard"
  },
  "cells": [
    {
      "cell_type": "markdown",
      "metadata": {
        "id": "view-in-github",
        "colab_type": "text"
      },
      "source": [
        "<a href=\"https://colab.research.google.com/github/KR-0822/CV_practice/blob/main/Sketch_classification_prac_efficient%2B%EC%A0%84%EC%B2%98%EB%A6%AC.ipynb\" target=\"_parent\"><img src=\"https://colab.research.google.com/assets/colab-badge.svg\" alt=\"Open In Colab\"/></a>"
      ]
    },
    {
      "cell_type": "code",
      "source": [
        "from google.colab import drive\n",
        "drive.mount(\"/content/gdrive\")\n",
        "\n",
        "%cd /content/gdrive/MyDrive/\n"
      ],
      "metadata": {
        "colab": {
          "base_uri": "https://localhost:8080/"
        },
        "id": "DQ_lnE148FWs",
        "outputId": "60b8e26b-21fc-4cff-d9be-f5b77315daf9"
      },
      "execution_count": 1,
      "outputs": [
        {
          "output_type": "stream",
          "name": "stdout",
          "text": [
            "Mounted at /content/gdrive\n",
            "/content/gdrive/MyDrive\n"
          ]
        }
      ]
    },
    {
      "cell_type": "code",
      "source": [
        "!nvidia-smi"
      ],
      "metadata": {
        "colab": {
          "base_uri": "https://localhost:8080/"
        },
        "id": "jtLJk6E88Gh_",
        "outputId": "58cd4cf9-c950-4846-d574-0c5906df2978"
      },
      "execution_count": 2,
      "outputs": [
        {
          "output_type": "stream",
          "name": "stdout",
          "text": [
            "Mon Mar 20 23:46:29 2023       \n",
            "+-----------------------------------------------------------------------------+\n",
            "| NVIDIA-SMI 525.85.12    Driver Version: 525.85.12    CUDA Version: 12.0     |\n",
            "|-------------------------------+----------------------+----------------------+\n",
            "| GPU  Name        Persistence-M| Bus-Id        Disp.A | Volatile Uncorr. ECC |\n",
            "| Fan  Temp  Perf  Pwr:Usage/Cap|         Memory-Usage | GPU-Util  Compute M. |\n",
            "|                               |                      |               MIG M. |\n",
            "|===============================+======================+======================|\n",
            "|   0  Tesla T4            Off  | 00000000:00:04.0 Off |                    0 |\n",
            "| N/A   49C    P0    26W /  70W |      0MiB / 15360MiB |      0%      Default |\n",
            "|                               |                      |                  N/A |\n",
            "+-------------------------------+----------------------+----------------------+\n",
            "                                                                               \n",
            "+-----------------------------------------------------------------------------+\n",
            "| Processes:                                                                  |\n",
            "|  GPU   GI   CI        PID   Type   Process name                  GPU Memory |\n",
            "|        ID   ID                                                   Usage      |\n",
            "|=============================================================================|\n",
            "|  No running processes found                                                 |\n",
            "+-----------------------------------------------------------------------------+\n"
          ]
        }
      ]
    },
    {
      "cell_type": "code",
      "source": [
        "import tensorflow as tf\n",
        "tf.__version__"
      ],
      "metadata": {
        "colab": {
          "base_uri": "https://localhost:8080/",
          "height": 35
        },
        "id": "pDwADT5M8Gur",
        "outputId": "2e2daec8-5395-4eb5-ae6a-c0d628d069e1"
      },
      "execution_count": 3,
      "outputs": [
        {
          "output_type": "execute_result",
          "data": {
            "text/plain": [
              "'2.11.0'"
            ],
            "application/vnd.google.colaboratory.intrinsic+json": {
              "type": "string"
            }
          },
          "metadata": {},
          "execution_count": 3
        }
      ]
    },
    {
      "cell_type": "code",
      "source": [
        "# re-size all the images to this\n",
        "IMAGE_SIZE = [224, 224]\n",
        "\n",
        "train_path = '/content/gdrive/MyDrive/AIHUB_IMAGEDATA/01.데이터/1.Training/TS1/L1_4'\n",
        "valid_path = '/content/gdrive/MyDrive/AIHUB_IMAGEDATA/01.데이터/2.Validation/Val/ABSTRACT_ILLUSTRATION/VS1/L1_4'\n"
      ],
      "metadata": {
        "id": "iOccrC148UUQ"
      },
      "execution_count": 4,
      "outputs": []
    },
    {
      "cell_type": "code",
      "source": [
        "# merge 용\n",
        "'''\n",
        "import os\n",
        "import shutil\n",
        "\n",
        "def merge(scr_path, dir_path):\n",
        "  files = next(os.walk(scr_path))[2]\n",
        "  folders = next(os.walk(scr_path))[1]\n",
        "  for file in files: # Copy the files\n",
        "    scr_file = scr_path + \"/\" + file\n",
        "    dir_file = dir_path + \"/\" + file\n",
        "    if os.path.exists(dir_file): # Delete the old files if already exist\n",
        "      os.remove(dir_file)\n",
        "    shutil.copy(scr_file, dir_file)\n",
        "  for folder in folders: # Merge again with the subdirectories\n",
        "    scr_folder = scr_path + \"/\" + folder\n",
        "    dir_folder = dir_path + \"/\" + folder\n",
        "    if not os.path.exists(dir_folder): # Create the subdirectories if dont already exist\n",
        "      os.mkdir(dir_folder)\n",
        "    merge(scr_folder, dir_folder)\n",
        "\n",
        "path1 = \"/content/gdrive/MyDrive/AIHUB_IMAGEDATA/01.데이터/2.Validation/Val/ABSTRACT_PICTOGRAM/VS1/L1_4/L3_471\"\n",
        "path2 = \"/content/gdrive/MyDrive/AIHUB_IMAGEDATA/01.데이터/2.Validation/Val/ABSTRACT_ILLUSTRATION/VS1/L1_4/L3_471\"\n",
        "\n",
        "merge(path1, path2)\n",
        "\n"
      ],
      "metadata": {
        "colab": {
          "base_uri": "https://localhost:8080/",
          "height": 137
        },
        "id": "7OyennHdNbmH",
        "outputId": "1dc2c05e-3fad-4580-e8da-8f74c2a56e20"
      },
      "execution_count": null,
      "outputs": [
        {
          "output_type": "error",
          "ename": "SyntaxError",
          "evalue": "ignored",
          "traceback": [
            "\u001b[0;36m  File \u001b[0;32m\"<ipython-input-6-05cbd5f3fd45>\"\u001b[0;36m, line \u001b[0;32m26\u001b[0m\n\u001b[0;31m    \u001b[0m\n\u001b[0m    ^\u001b[0m\n\u001b[0;31mSyntaxError\u001b[0m\u001b[0;31m:\u001b[0m EOF while scanning triple-quoted string literal\n"
          ]
        }
      ]
    },
    {
      "cell_type": "code",
      "source": [
        "# merge 용\n",
        "'''\n",
        "a = 471\n",
        "path0 = \"/content/gdrive/MyDrive/AIHUB_IMAGEDATA/01.데이터/2.Validation/Val/ABSTRACT_PICTOGRAM/VS1/L1_4/L3_\" + str(a)\n",
        "path0\n",
        "'''"
      ],
      "metadata": {
        "colab": {
          "base_uri": "https://localhost:8080/",
          "height": 54
        },
        "id": "dcNlYsFKTUdF",
        "outputId": "7288a490-9a8a-475e-dea4-b78b95eee8b0"
      },
      "execution_count": null,
      "outputs": [
        {
          "output_type": "execute_result",
          "data": {
            "text/plain": [
              "'\\na = 471\\npath0 = \"/content/gdrive/MyDrive/AIHUB_IMAGEDATA/01.데이터/2.Validation/Val/ABSTRACT_PICTOGRAM/VS1/L1_4/L3_\" + str(a)\\npath0\\n'"
            ],
            "application/vnd.google.colaboratory.intrinsic+json": {
              "type": "string"
            }
          },
          "metadata": {},
          "execution_count": 7
        }
      ]
    },
    {
      "cell_type": "code",
      "source": [
        "# merge 용\n",
        "#number = 471\n",
        "#for i in range(159): \n",
        "#    number = number +1 \n",
        "#    path1 = \"/content/gdrive/MyDrive/AIHUB_IMAGEDATA/01.데이터/2.Validation/Val/ABSTRACT_SKETCH/VS1/L1_4/L3_\" + str(number)\n",
        "#    path2 = \"/content/gdrive/MyDrive/AIHUB_IMAGEDATA/01.데이터/2.Validation/Val/ABSTRACT_ILLUSTRATION/VS1/L1_4/L3_\" + str(number)\n",
        "#    merge(path1, path2)"
      ],
      "metadata": {
        "id": "ah57RICWP4b2"
      },
      "execution_count": null,
      "outputs": []
    },
    {
      "cell_type": "code",
      "source": [
        "# import the libraries as shown below\n",
        "\n",
        "from tensorflow.keras.layers import Input, Lambda, Dense, Flatten\n",
        "from tensorflow.keras.models import Model\n",
        "from tensorflow.keras.applications.inception_v3 import InceptionV3\n",
        "from tensorflow.keras.applications.inception_v3 import InceptionV3\n",
        "from tensorflow.keras.applications import EfficientNetB0\n",
        "\n",
        "#from keras.applications.vgg16 import VGG16\n",
        "from tensorflow.keras.applications.resnet50 import preprocess_input\n",
        "from tensorflow.keras.applications.inception_v3 import preprocess_input\n",
        "\n",
        "from tensorflow.keras.preprocessing import image\n",
        "from tensorflow.keras.preprocessing.image import ImageDataGenerator,load_img\n",
        "from tensorflow.keras.models import Sequential\n",
        "import numpy as np\n",
        "from glob import glob\n",
        "#import matplotlib.pyplot as plt"
      ],
      "metadata": {
        "id": "AP9vYVfX9Uy3"
      },
      "execution_count": 5,
      "outputs": []
    },
    {
      "cell_type": "code",
      "source": [
        "# Import the inception V3 library as shown below and add preprocessing layer to the front of VGG\n",
        "# Here we will be using imagenet weights\n",
        "E_Net = EfficientNetB0(input_shape=IMAGE_SIZE + [3], include_top=False, weights='imagenet')\n",
        "\n",
        "#ResNet= ResNet50(input_shape=IMAGE_SIZE + [3], weights='imagenet', include_top=False)\n"
      ],
      "metadata": {
        "colab": {
          "base_uri": "https://localhost:8080/"
        },
        "id": "a-Zap6nj8Xx7",
        "outputId": "3db6a5b1-3ad0-43ea-d337-d2b4bb6b271b"
      },
      "execution_count": 6,
      "outputs": [
        {
          "output_type": "stream",
          "name": "stdout",
          "text": [
            "Downloading data from https://storage.googleapis.com/keras-applications/efficientnetb0_notop.h5\n",
            "16705208/16705208 [==============================] - 0s 0us/step\n"
          ]
        }
      ]
    },
    {
      "cell_type": "code",
      "source": [
        "# don't train existing weights\n",
        "\"\"\"\n",
        "for layer in inception.layers:\n",
        "    layer.trainable = False\n",
        "\"\"\""
      ],
      "metadata": {
        "colab": {
          "base_uri": "https://localhost:8080/",
          "height": 35
        },
        "id": "hLeIJ1qy9ZXF",
        "outputId": "6c07baf0-aa00-4f62-aecc-2c02c37e16f0"
      },
      "execution_count": 7,
      "outputs": [
        {
          "output_type": "execute_result",
          "data": {
            "text/plain": [
              "'\\nfor layer in inception.layers:\\n    layer.trainable = False\\n'"
            ],
            "application/vnd.google.colaboratory.intrinsic+json": {
              "type": "string"
            }
          },
          "metadata": {},
          "execution_count": 7
        }
      ]
    },
    {
      "cell_type": "code",
      "source": [
        "  # useful for getting number of output classes\n",
        "folders = glob('/content/gdrive/MyDrive/AIHUB_IMAGEDATA/01.데이터/1.Training/TS1/L1_4/*')\n"
      ],
      "metadata": {
        "id": "Y7VHP5sx9axU"
      },
      "execution_count": 8,
      "outputs": []
    },
    {
      "cell_type": "code",
      "source": [
        "print(folders)"
      ],
      "metadata": {
        "colab": {
          "base_uri": "https://localhost:8080/"
        },
        "id": "puw_twx19kat",
        "outputId": "178fc580-5538-4b75-f3e9-4e6a203ac68e"
      },
      "execution_count": 9,
      "outputs": [
        {
          "output_type": "stream",
          "name": "stdout",
          "text": [
            "['/content/gdrive/MyDrive/AIHUB_IMAGEDATA/01.데이터/1.Training/TS1/L1_4/L3_472', '/content/gdrive/MyDrive/AIHUB_IMAGEDATA/01.데이터/1.Training/TS1/L1_4/L3_471', '/content/gdrive/MyDrive/AIHUB_IMAGEDATA/01.데이터/1.Training/TS1/L1_4/L3_473', '/content/gdrive/MyDrive/AIHUB_IMAGEDATA/01.데이터/1.Training/TS1/L1_4/L3_474', '/content/gdrive/MyDrive/AIHUB_IMAGEDATA/01.데이터/1.Training/TS1/L1_4/L3_475', '/content/gdrive/MyDrive/AIHUB_IMAGEDATA/01.데이터/1.Training/TS1/L1_4/L3_476', '/content/gdrive/MyDrive/AIHUB_IMAGEDATA/01.데이터/1.Training/TS1/L1_4/L3_479', '/content/gdrive/MyDrive/AIHUB_IMAGEDATA/01.데이터/1.Training/TS1/L1_4/L3_477', '/content/gdrive/MyDrive/AIHUB_IMAGEDATA/01.데이터/1.Training/TS1/L1_4/L3_478', '/content/gdrive/MyDrive/AIHUB_IMAGEDATA/01.데이터/1.Training/TS1/L1_4/L3_480', '/content/gdrive/MyDrive/AIHUB_IMAGEDATA/01.데이터/1.Training/TS1/L1_4/L3_482', '/content/gdrive/MyDrive/AIHUB_IMAGEDATA/01.데이터/1.Training/TS1/L1_4/L3_483', '/content/gdrive/MyDrive/AIHUB_IMAGEDATA/01.데이터/1.Training/TS1/L1_4/L3_481', '/content/gdrive/MyDrive/AIHUB_IMAGEDATA/01.데이터/1.Training/TS1/L1_4/L3_484', '/content/gdrive/MyDrive/AIHUB_IMAGEDATA/01.데이터/1.Training/TS1/L1_4/L3_485', '/content/gdrive/MyDrive/AIHUB_IMAGEDATA/01.데이터/1.Training/TS1/L1_4/L3_487', '/content/gdrive/MyDrive/AIHUB_IMAGEDATA/01.데이터/1.Training/TS1/L1_4/L3_486', '/content/gdrive/MyDrive/AIHUB_IMAGEDATA/01.데이터/1.Training/TS1/L1_4/L3_488', '/content/gdrive/MyDrive/AIHUB_IMAGEDATA/01.데이터/1.Training/TS1/L1_4/L3_489', '/content/gdrive/MyDrive/AIHUB_IMAGEDATA/01.데이터/1.Training/TS1/L1_4/L3_490', '/content/gdrive/MyDrive/AIHUB_IMAGEDATA/01.데이터/1.Training/TS1/L1_4/L3_492', '/content/gdrive/MyDrive/AIHUB_IMAGEDATA/01.데이터/1.Training/TS1/L1_4/L3_491', '/content/gdrive/MyDrive/AIHUB_IMAGEDATA/01.데이터/1.Training/TS1/L1_4/L3_493', '/content/gdrive/MyDrive/AIHUB_IMAGEDATA/01.데이터/1.Training/TS1/L1_4/L3_494', '/content/gdrive/MyDrive/AIHUB_IMAGEDATA/01.데이터/1.Training/TS1/L1_4/L3_495', '/content/gdrive/MyDrive/AIHUB_IMAGEDATA/01.데이터/1.Training/TS1/L1_4/L3_497', '/content/gdrive/MyDrive/AIHUB_IMAGEDATA/01.데이터/1.Training/TS1/L1_4/L3_496', '/content/gdrive/MyDrive/AIHUB_IMAGEDATA/01.데이터/1.Training/TS1/L1_4/L3_498', '/content/gdrive/MyDrive/AIHUB_IMAGEDATA/01.데이터/1.Training/TS1/L1_4/L3_500', '/content/gdrive/MyDrive/AIHUB_IMAGEDATA/01.데이터/1.Training/TS1/L1_4/L3_499', '/content/gdrive/MyDrive/AIHUB_IMAGEDATA/01.데이터/1.Training/TS1/L1_4/L3_501', '/content/gdrive/MyDrive/AIHUB_IMAGEDATA/01.데이터/1.Training/TS1/L1_4/L3_502', '/content/gdrive/MyDrive/AIHUB_IMAGEDATA/01.데이터/1.Training/TS1/L1_4/L3_505', '/content/gdrive/MyDrive/AIHUB_IMAGEDATA/01.데이터/1.Training/TS1/L1_4/L3_504', '/content/gdrive/MyDrive/AIHUB_IMAGEDATA/01.데이터/1.Training/TS1/L1_4/L3_503', '/content/gdrive/MyDrive/AIHUB_IMAGEDATA/01.데이터/1.Training/TS1/L1_4/L3_507', '/content/gdrive/MyDrive/AIHUB_IMAGEDATA/01.데이터/1.Training/TS1/L1_4/L3_506', '/content/gdrive/MyDrive/AIHUB_IMAGEDATA/01.데이터/1.Training/TS1/L1_4/L3_508', '/content/gdrive/MyDrive/AIHUB_IMAGEDATA/01.데이터/1.Training/TS1/L1_4/L3_509', '/content/gdrive/MyDrive/AIHUB_IMAGEDATA/01.데이터/1.Training/TS1/L1_4/L3_510', '/content/gdrive/MyDrive/AIHUB_IMAGEDATA/01.데이터/1.Training/TS1/L1_4/L3_511', '/content/gdrive/MyDrive/AIHUB_IMAGEDATA/01.데이터/1.Training/TS1/L1_4/L3_512', '/content/gdrive/MyDrive/AIHUB_IMAGEDATA/01.데이터/1.Training/TS1/L1_4/L3_514', '/content/gdrive/MyDrive/AIHUB_IMAGEDATA/01.데이터/1.Training/TS1/L1_4/L3_513', '/content/gdrive/MyDrive/AIHUB_IMAGEDATA/01.데이터/1.Training/TS1/L1_4/L3_515', '/content/gdrive/MyDrive/AIHUB_IMAGEDATA/01.데이터/1.Training/TS1/L1_4/L3_518', '/content/gdrive/MyDrive/AIHUB_IMAGEDATA/01.데이터/1.Training/TS1/L1_4/L3_519', '/content/gdrive/MyDrive/AIHUB_IMAGEDATA/01.데이터/1.Training/TS1/L1_4/L3_516', '/content/gdrive/MyDrive/AIHUB_IMAGEDATA/01.데이터/1.Training/TS1/L1_4/L3_517', '/content/gdrive/MyDrive/AIHUB_IMAGEDATA/01.데이터/1.Training/TS1/L1_4/L3_521', '/content/gdrive/MyDrive/AIHUB_IMAGEDATA/01.데이터/1.Training/TS1/L1_4/L3_522', '/content/gdrive/MyDrive/AIHUB_IMAGEDATA/01.데이터/1.Training/TS1/L1_4/L3_520', '/content/gdrive/MyDrive/AIHUB_IMAGEDATA/01.데이터/1.Training/TS1/L1_4/L3_523', '/content/gdrive/MyDrive/AIHUB_IMAGEDATA/01.데이터/1.Training/TS1/L1_4/L3_524', '/content/gdrive/MyDrive/AIHUB_IMAGEDATA/01.데이터/1.Training/TS1/L1_4/L3_525', '/content/gdrive/MyDrive/AIHUB_IMAGEDATA/01.데이터/1.Training/TS1/L1_4/L3_526', '/content/gdrive/MyDrive/AIHUB_IMAGEDATA/01.데이터/1.Training/TS1/L1_4/L3_527', '/content/gdrive/MyDrive/AIHUB_IMAGEDATA/01.데이터/1.Training/TS1/L1_4/L3_529', '/content/gdrive/MyDrive/AIHUB_IMAGEDATA/01.데이터/1.Training/TS1/L1_4/L3_528', '/content/gdrive/MyDrive/AIHUB_IMAGEDATA/01.데이터/1.Training/TS1/L1_4/L3_530', '/content/gdrive/MyDrive/AIHUB_IMAGEDATA/01.데이터/1.Training/TS1/L1_4/L3_531', '/content/gdrive/MyDrive/AIHUB_IMAGEDATA/01.데이터/1.Training/TS1/L1_4/L3_532', '/content/gdrive/MyDrive/AIHUB_IMAGEDATA/01.데이터/1.Training/TS1/L1_4/L3_533', '/content/gdrive/MyDrive/AIHUB_IMAGEDATA/01.데이터/1.Training/TS1/L1_4/L3_534', '/content/gdrive/MyDrive/AIHUB_IMAGEDATA/01.데이터/1.Training/TS1/L1_4/L3_535', '/content/gdrive/MyDrive/AIHUB_IMAGEDATA/01.데이터/1.Training/TS1/L1_4/L3_537', '/content/gdrive/MyDrive/AIHUB_IMAGEDATA/01.데이터/1.Training/TS1/L1_4/L3_536', '/content/gdrive/MyDrive/AIHUB_IMAGEDATA/01.데이터/1.Training/TS1/L1_4/L3_539', '/content/gdrive/MyDrive/AIHUB_IMAGEDATA/01.데이터/1.Training/TS1/L1_4/L3_538', '/content/gdrive/MyDrive/AIHUB_IMAGEDATA/01.데이터/1.Training/TS1/L1_4/L3_540', '/content/gdrive/MyDrive/AIHUB_IMAGEDATA/01.데이터/1.Training/TS1/L1_4/L3_542', '/content/gdrive/MyDrive/AIHUB_IMAGEDATA/01.데이터/1.Training/TS1/L1_4/L3_541', '/content/gdrive/MyDrive/AIHUB_IMAGEDATA/01.데이터/1.Training/TS1/L1_4/L3_543', '/content/gdrive/MyDrive/AIHUB_IMAGEDATA/01.데이터/1.Training/TS1/L1_4/L3_544', '/content/gdrive/MyDrive/AIHUB_IMAGEDATA/01.데이터/1.Training/TS1/L1_4/L3_545', '/content/gdrive/MyDrive/AIHUB_IMAGEDATA/01.데이터/1.Training/TS1/L1_4/L3_547', '/content/gdrive/MyDrive/AIHUB_IMAGEDATA/01.데이터/1.Training/TS1/L1_4/L3_546', '/content/gdrive/MyDrive/AIHUB_IMAGEDATA/01.데이터/1.Training/TS1/L1_4/L3_548', '/content/gdrive/MyDrive/AIHUB_IMAGEDATA/01.데이터/1.Training/TS1/L1_4/L3_549', '/content/gdrive/MyDrive/AIHUB_IMAGEDATA/01.데이터/1.Training/TS1/L1_4/L3_550', '/content/gdrive/MyDrive/AIHUB_IMAGEDATA/01.데이터/1.Training/TS1/L1_4/L3_553', '/content/gdrive/MyDrive/AIHUB_IMAGEDATA/01.데이터/1.Training/TS1/L1_4/L3_551', '/content/gdrive/MyDrive/AIHUB_IMAGEDATA/01.데이터/1.Training/TS1/L1_4/L3_552', '/content/gdrive/MyDrive/AIHUB_IMAGEDATA/01.데이터/1.Training/TS1/L1_4/L3_555', '/content/gdrive/MyDrive/AIHUB_IMAGEDATA/01.데이터/1.Training/TS1/L1_4/L3_554', '/content/gdrive/MyDrive/AIHUB_IMAGEDATA/01.데이터/1.Training/TS1/L1_4/L3_556', '/content/gdrive/MyDrive/AIHUB_IMAGEDATA/01.데이터/1.Training/TS1/L1_4/L3_557', '/content/gdrive/MyDrive/AIHUB_IMAGEDATA/01.데이터/1.Training/TS1/L1_4/L3_558', '/content/gdrive/MyDrive/AIHUB_IMAGEDATA/01.데이터/1.Training/TS1/L1_4/L3_559', '/content/gdrive/MyDrive/AIHUB_IMAGEDATA/01.데이터/1.Training/TS1/L1_4/L3_560', '/content/gdrive/MyDrive/AIHUB_IMAGEDATA/01.데이터/1.Training/TS1/L1_4/L3_561', '/content/gdrive/MyDrive/AIHUB_IMAGEDATA/01.데이터/1.Training/TS1/L1_4/L3_562', '/content/gdrive/MyDrive/AIHUB_IMAGEDATA/01.데이터/1.Training/TS1/L1_4/L3_564', '/content/gdrive/MyDrive/AIHUB_IMAGEDATA/01.데이터/1.Training/TS1/L1_4/L3_563', '/content/gdrive/MyDrive/AIHUB_IMAGEDATA/01.데이터/1.Training/TS1/L1_4/L3_565', '/content/gdrive/MyDrive/AIHUB_IMAGEDATA/01.데이터/1.Training/TS1/L1_4/L3_566', '/content/gdrive/MyDrive/AIHUB_IMAGEDATA/01.데이터/1.Training/TS1/L1_4/L3_568', '/content/gdrive/MyDrive/AIHUB_IMAGEDATA/01.데이터/1.Training/TS1/L1_4/L3_567', '/content/gdrive/MyDrive/AIHUB_IMAGEDATA/01.데이터/1.Training/TS1/L1_4/L3_569', '/content/gdrive/MyDrive/AIHUB_IMAGEDATA/01.데이터/1.Training/TS1/L1_4/L3_570', '/content/gdrive/MyDrive/AIHUB_IMAGEDATA/01.데이터/1.Training/TS1/L1_4/L3_571', '/content/gdrive/MyDrive/AIHUB_IMAGEDATA/01.데이터/1.Training/TS1/L1_4/L3_572', '/content/gdrive/MyDrive/AIHUB_IMAGEDATA/01.데이터/1.Training/TS1/L1_4/L3_573', '/content/gdrive/MyDrive/AIHUB_IMAGEDATA/01.데이터/1.Training/TS1/L1_4/L3_574', '/content/gdrive/MyDrive/AIHUB_IMAGEDATA/01.데이터/1.Training/TS1/L1_4/L3_575', '/content/gdrive/MyDrive/AIHUB_IMAGEDATA/01.데이터/1.Training/TS1/L1_4/L3_577', '/content/gdrive/MyDrive/AIHUB_IMAGEDATA/01.데이터/1.Training/TS1/L1_4/L3_576', '/content/gdrive/MyDrive/AIHUB_IMAGEDATA/01.데이터/1.Training/TS1/L1_4/L3_578', '/content/gdrive/MyDrive/AIHUB_IMAGEDATA/01.데이터/1.Training/TS1/L1_4/L3_581', '/content/gdrive/MyDrive/AIHUB_IMAGEDATA/01.데이터/1.Training/TS1/L1_4/L3_580', '/content/gdrive/MyDrive/AIHUB_IMAGEDATA/01.데이터/1.Training/TS1/L1_4/L3_579', '/content/gdrive/MyDrive/AIHUB_IMAGEDATA/01.데이터/1.Training/TS1/L1_4/L3_582', '/content/gdrive/MyDrive/AIHUB_IMAGEDATA/01.데이터/1.Training/TS1/L1_4/L3_585', '/content/gdrive/MyDrive/AIHUB_IMAGEDATA/01.데이터/1.Training/TS1/L1_4/L3_586', '/content/gdrive/MyDrive/AIHUB_IMAGEDATA/01.데이터/1.Training/TS1/L1_4/L3_583', '/content/gdrive/MyDrive/AIHUB_IMAGEDATA/01.데이터/1.Training/TS1/L1_4/L3_584', '/content/gdrive/MyDrive/AIHUB_IMAGEDATA/01.데이터/1.Training/TS1/L1_4/L3_587', '/content/gdrive/MyDrive/AIHUB_IMAGEDATA/01.데이터/1.Training/TS1/L1_4/L3_588', '/content/gdrive/MyDrive/AIHUB_IMAGEDATA/01.데이터/1.Training/TS1/L1_4/L3_589', '/content/gdrive/MyDrive/AIHUB_IMAGEDATA/01.데이터/1.Training/TS1/L1_4/L3_590', '/content/gdrive/MyDrive/AIHUB_IMAGEDATA/01.데이터/1.Training/TS1/L1_4/L3_591', '/content/gdrive/MyDrive/AIHUB_IMAGEDATA/01.데이터/1.Training/TS1/L1_4/L3_592', '/content/gdrive/MyDrive/AIHUB_IMAGEDATA/01.데이터/1.Training/TS1/L1_4/L3_593', '/content/gdrive/MyDrive/AIHUB_IMAGEDATA/01.데이터/1.Training/TS1/L1_4/L3_594', '/content/gdrive/MyDrive/AIHUB_IMAGEDATA/01.데이터/1.Training/TS1/L1_4/L3_595', '/content/gdrive/MyDrive/AIHUB_IMAGEDATA/01.데이터/1.Training/TS1/L1_4/L3_596', '/content/gdrive/MyDrive/AIHUB_IMAGEDATA/01.데이터/1.Training/TS1/L1_4/L3_597', '/content/gdrive/MyDrive/AIHUB_IMAGEDATA/01.데이터/1.Training/TS1/L1_4/L3_598', '/content/gdrive/MyDrive/AIHUB_IMAGEDATA/01.데이터/1.Training/TS1/L1_4/L3_599', '/content/gdrive/MyDrive/AIHUB_IMAGEDATA/01.데이터/1.Training/TS1/L1_4/L3_601', '/content/gdrive/MyDrive/AIHUB_IMAGEDATA/01.데이터/1.Training/TS1/L1_4/L3_600', '/content/gdrive/MyDrive/AIHUB_IMAGEDATA/01.데이터/1.Training/TS1/L1_4/L3_602', '/content/gdrive/MyDrive/AIHUB_IMAGEDATA/01.데이터/1.Training/TS1/L1_4/L3_604', '/content/gdrive/MyDrive/AIHUB_IMAGEDATA/01.데이터/1.Training/TS1/L1_4/L3_603', '/content/gdrive/MyDrive/AIHUB_IMAGEDATA/01.데이터/1.Training/TS1/L1_4/L3_607', '/content/gdrive/MyDrive/AIHUB_IMAGEDATA/01.데이터/1.Training/TS1/L1_4/L3_606', '/content/gdrive/MyDrive/AIHUB_IMAGEDATA/01.데이터/1.Training/TS1/L1_4/L3_605', '/content/gdrive/MyDrive/AIHUB_IMAGEDATA/01.데이터/1.Training/TS1/L1_4/L3_610', '/content/gdrive/MyDrive/AIHUB_IMAGEDATA/01.데이터/1.Training/TS1/L1_4/L3_609', '/content/gdrive/MyDrive/AIHUB_IMAGEDATA/01.데이터/1.Training/TS1/L1_4/L3_608', '/content/gdrive/MyDrive/AIHUB_IMAGEDATA/01.데이터/1.Training/TS1/L1_4/L3_611', '/content/gdrive/MyDrive/AIHUB_IMAGEDATA/01.데이터/1.Training/TS1/L1_4/L3_612', '/content/gdrive/MyDrive/AIHUB_IMAGEDATA/01.데이터/1.Training/TS1/L1_4/L3_614', '/content/gdrive/MyDrive/AIHUB_IMAGEDATA/01.데이터/1.Training/TS1/L1_4/L3_613', '/content/gdrive/MyDrive/AIHUB_IMAGEDATA/01.데이터/1.Training/TS1/L1_4/L3_615', '/content/gdrive/MyDrive/AIHUB_IMAGEDATA/01.데이터/1.Training/TS1/L1_4/L3_616', '/content/gdrive/MyDrive/AIHUB_IMAGEDATA/01.데이터/1.Training/TS1/L1_4/L3_617', '/content/gdrive/MyDrive/AIHUB_IMAGEDATA/01.데이터/1.Training/TS1/L1_4/L3_618', '/content/gdrive/MyDrive/AIHUB_IMAGEDATA/01.데이터/1.Training/TS1/L1_4/L3_620', '/content/gdrive/MyDrive/AIHUB_IMAGEDATA/01.데이터/1.Training/TS1/L1_4/L3_619', '/content/gdrive/MyDrive/AIHUB_IMAGEDATA/01.데이터/1.Training/TS1/L1_4/L3_622', '/content/gdrive/MyDrive/AIHUB_IMAGEDATA/01.데이터/1.Training/TS1/L1_4/L3_623', '/content/gdrive/MyDrive/AIHUB_IMAGEDATA/01.데이터/1.Training/TS1/L1_4/L3_621', '/content/gdrive/MyDrive/AIHUB_IMAGEDATA/01.데이터/1.Training/TS1/L1_4/L3_624', '/content/gdrive/MyDrive/AIHUB_IMAGEDATA/01.데이터/1.Training/TS1/L1_4/L3_625', '/content/gdrive/MyDrive/AIHUB_IMAGEDATA/01.데이터/1.Training/TS1/L1_4/L3_626', '/content/gdrive/MyDrive/AIHUB_IMAGEDATA/01.데이터/1.Training/TS1/L1_4/L3_627', '/content/gdrive/MyDrive/AIHUB_IMAGEDATA/01.데이터/1.Training/TS1/L1_4/L3_628', '/content/gdrive/MyDrive/AIHUB_IMAGEDATA/01.데이터/1.Training/TS1/L1_4/L3_629']\n"
          ]
        }
      ]
    },
    {
      "cell_type": "code",
      "source": [
        "# our layers - you can add more if you want\n",
        "x = Flatten()(E_Net.output)\n"
      ],
      "metadata": {
        "id": "iZug0RkW9ecF"
      },
      "execution_count": 10,
      "outputs": []
    },
    {
      "cell_type": "code",
      "source": [
        "prediction = Dense(len(folders), activation='softmax')(x)\n",
        "\n",
        "# create a model object\n",
        "model = Model(inputs=E_Net.input, outputs=prediction)"
      ],
      "metadata": {
        "id": "qnygDd1O9qBk"
      },
      "execution_count": 11,
      "outputs": []
    },
    {
      "cell_type": "code",
      "source": [
        "model.summary()\n"
      ],
      "metadata": {
        "colab": {
          "base_uri": "https://localhost:8080/"
        },
        "id": "NGAgh2GZ9rfq",
        "outputId": "f810dd41-edc3-4e67-ea36-77538f235f16"
      },
      "execution_count": 12,
      "outputs": [
        {
          "output_type": "stream",
          "name": "stdout",
          "text": [
            "Model: \"model\"\n",
            "__________________________________________________________________________________________________\n",
            " Layer (type)                   Output Shape         Param #     Connected to                     \n",
            "==================================================================================================\n",
            " input_1 (InputLayer)           [(None, 224, 224, 3  0           []                               \n",
            "                                )]                                                                \n",
            "                                                                                                  \n",
            " rescaling (Rescaling)          (None, 224, 224, 3)  0           ['input_1[0][0]']                \n",
            "                                                                                                  \n",
            " normalization (Normalization)  (None, 224, 224, 3)  7           ['rescaling[0][0]']              \n",
            "                                                                                                  \n",
            " rescaling_1 (Rescaling)        (None, 224, 224, 3)  0           ['normalization[0][0]']          \n",
            "                                                                                                  \n",
            " stem_conv_pad (ZeroPadding2D)  (None, 225, 225, 3)  0           ['rescaling_1[0][0]']            \n",
            "                                                                                                  \n",
            " stem_conv (Conv2D)             (None, 112, 112, 32  864         ['stem_conv_pad[0][0]']          \n",
            "                                )                                                                 \n",
            "                                                                                                  \n",
            " stem_bn (BatchNormalization)   (None, 112, 112, 32  128         ['stem_conv[0][0]']              \n",
            "                                )                                                                 \n",
            "                                                                                                  \n",
            " stem_activation (Activation)   (None, 112, 112, 32  0           ['stem_bn[0][0]']                \n",
            "                                )                                                                 \n",
            "                                                                                                  \n",
            " block1a_dwconv (DepthwiseConv2  (None, 112, 112, 32  288        ['stem_activation[0][0]']        \n",
            " D)                             )                                                                 \n",
            "                                                                                                  \n",
            " block1a_bn (BatchNormalization  (None, 112, 112, 32  128        ['block1a_dwconv[0][0]']         \n",
            " )                              )                                                                 \n",
            "                                                                                                  \n",
            " block1a_activation (Activation  (None, 112, 112, 32  0          ['block1a_bn[0][0]']             \n",
            " )                              )                                                                 \n",
            "                                                                                                  \n",
            " block1a_se_squeeze (GlobalAver  (None, 32)          0           ['block1a_activation[0][0]']     \n",
            " agePooling2D)                                                                                    \n",
            "                                                                                                  \n",
            " block1a_se_reshape (Reshape)   (None, 1, 1, 32)     0           ['block1a_se_squeeze[0][0]']     \n",
            "                                                                                                  \n",
            " block1a_se_reduce (Conv2D)     (None, 1, 1, 8)      264         ['block1a_se_reshape[0][0]']     \n",
            "                                                                                                  \n",
            " block1a_se_expand (Conv2D)     (None, 1, 1, 32)     288         ['block1a_se_reduce[0][0]']      \n",
            "                                                                                                  \n",
            " block1a_se_excite (Multiply)   (None, 112, 112, 32  0           ['block1a_activation[0][0]',     \n",
            "                                )                                 'block1a_se_expand[0][0]']      \n",
            "                                                                                                  \n",
            " block1a_project_conv (Conv2D)  (None, 112, 112, 16  512         ['block1a_se_excite[0][0]']      \n",
            "                                )                                                                 \n",
            "                                                                                                  \n",
            " block1a_project_bn (BatchNorma  (None, 112, 112, 16  64         ['block1a_project_conv[0][0]']   \n",
            " lization)                      )                                                                 \n",
            "                                                                                                  \n",
            " block2a_expand_conv (Conv2D)   (None, 112, 112, 96  1536        ['block1a_project_bn[0][0]']     \n",
            "                                )                                                                 \n",
            "                                                                                                  \n",
            " block2a_expand_bn (BatchNormal  (None, 112, 112, 96  384        ['block2a_expand_conv[0][0]']    \n",
            " ization)                       )                                                                 \n",
            "                                                                                                  \n",
            " block2a_expand_activation (Act  (None, 112, 112, 96  0          ['block2a_expand_bn[0][0]']      \n",
            " ivation)                       )                                                                 \n",
            "                                                                                                  \n",
            " block2a_dwconv_pad (ZeroPaddin  (None, 113, 113, 96  0          ['block2a_expand_activation[0][0]\n",
            " g2D)                           )                                ']                               \n",
            "                                                                                                  \n",
            " block2a_dwconv (DepthwiseConv2  (None, 56, 56, 96)  864         ['block2a_dwconv_pad[0][0]']     \n",
            " D)                                                                                               \n",
            "                                                                                                  \n",
            " block2a_bn (BatchNormalization  (None, 56, 56, 96)  384         ['block2a_dwconv[0][0]']         \n",
            " )                                                                                                \n",
            "                                                                                                  \n",
            " block2a_activation (Activation  (None, 56, 56, 96)  0           ['block2a_bn[0][0]']             \n",
            " )                                                                                                \n",
            "                                                                                                  \n",
            " block2a_se_squeeze (GlobalAver  (None, 96)          0           ['block2a_activation[0][0]']     \n",
            " agePooling2D)                                                                                    \n",
            "                                                                                                  \n",
            " block2a_se_reshape (Reshape)   (None, 1, 1, 96)     0           ['block2a_se_squeeze[0][0]']     \n",
            "                                                                                                  \n",
            " block2a_se_reduce (Conv2D)     (None, 1, 1, 4)      388         ['block2a_se_reshape[0][0]']     \n",
            "                                                                                                  \n",
            " block2a_se_expand (Conv2D)     (None, 1, 1, 96)     480         ['block2a_se_reduce[0][0]']      \n",
            "                                                                                                  \n",
            " block2a_se_excite (Multiply)   (None, 56, 56, 96)   0           ['block2a_activation[0][0]',     \n",
            "                                                                  'block2a_se_expand[0][0]']      \n",
            "                                                                                                  \n",
            " block2a_project_conv (Conv2D)  (None, 56, 56, 24)   2304        ['block2a_se_excite[0][0]']      \n",
            "                                                                                                  \n",
            " block2a_project_bn (BatchNorma  (None, 56, 56, 24)  96          ['block2a_project_conv[0][0]']   \n",
            " lization)                                                                                        \n",
            "                                                                                                  \n",
            " block2b_expand_conv (Conv2D)   (None, 56, 56, 144)  3456        ['block2a_project_bn[0][0]']     \n",
            "                                                                                                  \n",
            " block2b_expand_bn (BatchNormal  (None, 56, 56, 144)  576        ['block2b_expand_conv[0][0]']    \n",
            " ization)                                                                                         \n",
            "                                                                                                  \n",
            " block2b_expand_activation (Act  (None, 56, 56, 144)  0          ['block2b_expand_bn[0][0]']      \n",
            " ivation)                                                                                         \n",
            "                                                                                                  \n",
            " block2b_dwconv (DepthwiseConv2  (None, 56, 56, 144)  1296       ['block2b_expand_activation[0][0]\n",
            " D)                                                              ']                               \n",
            "                                                                                                  \n",
            " block2b_bn (BatchNormalization  (None, 56, 56, 144)  576        ['block2b_dwconv[0][0]']         \n",
            " )                                                                                                \n",
            "                                                                                                  \n",
            " block2b_activation (Activation  (None, 56, 56, 144)  0          ['block2b_bn[0][0]']             \n",
            " )                                                                                                \n",
            "                                                                                                  \n",
            " block2b_se_squeeze (GlobalAver  (None, 144)         0           ['block2b_activation[0][0]']     \n",
            " agePooling2D)                                                                                    \n",
            "                                                                                                  \n",
            " block2b_se_reshape (Reshape)   (None, 1, 1, 144)    0           ['block2b_se_squeeze[0][0]']     \n",
            "                                                                                                  \n",
            " block2b_se_reduce (Conv2D)     (None, 1, 1, 6)      870         ['block2b_se_reshape[0][0]']     \n",
            "                                                                                                  \n",
            " block2b_se_expand (Conv2D)     (None, 1, 1, 144)    1008        ['block2b_se_reduce[0][0]']      \n",
            "                                                                                                  \n",
            " block2b_se_excite (Multiply)   (None, 56, 56, 144)  0           ['block2b_activation[0][0]',     \n",
            "                                                                  'block2b_se_expand[0][0]']      \n",
            "                                                                                                  \n",
            " block2b_project_conv (Conv2D)  (None, 56, 56, 24)   3456        ['block2b_se_excite[0][0]']      \n",
            "                                                                                                  \n",
            " block2b_project_bn (BatchNorma  (None, 56, 56, 24)  96          ['block2b_project_conv[0][0]']   \n",
            " lization)                                                                                        \n",
            "                                                                                                  \n",
            " block2b_drop (Dropout)         (None, 56, 56, 24)   0           ['block2b_project_bn[0][0]']     \n",
            "                                                                                                  \n",
            " block2b_add (Add)              (None, 56, 56, 24)   0           ['block2b_drop[0][0]',           \n",
            "                                                                  'block2a_project_bn[0][0]']     \n",
            "                                                                                                  \n",
            " block3a_expand_conv (Conv2D)   (None, 56, 56, 144)  3456        ['block2b_add[0][0]']            \n",
            "                                                                                                  \n",
            " block3a_expand_bn (BatchNormal  (None, 56, 56, 144)  576        ['block3a_expand_conv[0][0]']    \n",
            " ization)                                                                                         \n",
            "                                                                                                  \n",
            " block3a_expand_activation (Act  (None, 56, 56, 144)  0          ['block3a_expand_bn[0][0]']      \n",
            " ivation)                                                                                         \n",
            "                                                                                                  \n",
            " block3a_dwconv_pad (ZeroPaddin  (None, 59, 59, 144)  0          ['block3a_expand_activation[0][0]\n",
            " g2D)                                                            ']                               \n",
            "                                                                                                  \n",
            " block3a_dwconv (DepthwiseConv2  (None, 28, 28, 144)  3600       ['block3a_dwconv_pad[0][0]']     \n",
            " D)                                                                                               \n",
            "                                                                                                  \n",
            " block3a_bn (BatchNormalization  (None, 28, 28, 144)  576        ['block3a_dwconv[0][0]']         \n",
            " )                                                                                                \n",
            "                                                                                                  \n",
            " block3a_activation (Activation  (None, 28, 28, 144)  0          ['block3a_bn[0][0]']             \n",
            " )                                                                                                \n",
            "                                                                                                  \n",
            " block3a_se_squeeze (GlobalAver  (None, 144)         0           ['block3a_activation[0][0]']     \n",
            " agePooling2D)                                                                                    \n",
            "                                                                                                  \n",
            " block3a_se_reshape (Reshape)   (None, 1, 1, 144)    0           ['block3a_se_squeeze[0][0]']     \n",
            "                                                                                                  \n",
            " block3a_se_reduce (Conv2D)     (None, 1, 1, 6)      870         ['block3a_se_reshape[0][0]']     \n",
            "                                                                                                  \n",
            " block3a_se_expand (Conv2D)     (None, 1, 1, 144)    1008        ['block3a_se_reduce[0][0]']      \n",
            "                                                                                                  \n",
            " block3a_se_excite (Multiply)   (None, 28, 28, 144)  0           ['block3a_activation[0][0]',     \n",
            "                                                                  'block3a_se_expand[0][0]']      \n",
            "                                                                                                  \n",
            " block3a_project_conv (Conv2D)  (None, 28, 28, 40)   5760        ['block3a_se_excite[0][0]']      \n",
            "                                                                                                  \n",
            " block3a_project_bn (BatchNorma  (None, 28, 28, 40)  160         ['block3a_project_conv[0][0]']   \n",
            " lization)                                                                                        \n",
            "                                                                                                  \n",
            " block3b_expand_conv (Conv2D)   (None, 28, 28, 240)  9600        ['block3a_project_bn[0][0]']     \n",
            "                                                                                                  \n",
            " block3b_expand_bn (BatchNormal  (None, 28, 28, 240)  960        ['block3b_expand_conv[0][0]']    \n",
            " ization)                                                                                         \n",
            "                                                                                                  \n",
            " block3b_expand_activation (Act  (None, 28, 28, 240)  0          ['block3b_expand_bn[0][0]']      \n",
            " ivation)                                                                                         \n",
            "                                                                                                  \n",
            " block3b_dwconv (DepthwiseConv2  (None, 28, 28, 240)  6000       ['block3b_expand_activation[0][0]\n",
            " D)                                                              ']                               \n",
            "                                                                                                  \n",
            " block3b_bn (BatchNormalization  (None, 28, 28, 240)  960        ['block3b_dwconv[0][0]']         \n",
            " )                                                                                                \n",
            "                                                                                                  \n",
            " block3b_activation (Activation  (None, 28, 28, 240)  0          ['block3b_bn[0][0]']             \n",
            " )                                                                                                \n",
            "                                                                                                  \n",
            " block3b_se_squeeze (GlobalAver  (None, 240)         0           ['block3b_activation[0][0]']     \n",
            " agePooling2D)                                                                                    \n",
            "                                                                                                  \n",
            " block3b_se_reshape (Reshape)   (None, 1, 1, 240)    0           ['block3b_se_squeeze[0][0]']     \n",
            "                                                                                                  \n",
            " block3b_se_reduce (Conv2D)     (None, 1, 1, 10)     2410        ['block3b_se_reshape[0][0]']     \n",
            "                                                                                                  \n",
            " block3b_se_expand (Conv2D)     (None, 1, 1, 240)    2640        ['block3b_se_reduce[0][0]']      \n",
            "                                                                                                  \n",
            " block3b_se_excite (Multiply)   (None, 28, 28, 240)  0           ['block3b_activation[0][0]',     \n",
            "                                                                  'block3b_se_expand[0][0]']      \n",
            "                                                                                                  \n",
            " block3b_project_conv (Conv2D)  (None, 28, 28, 40)   9600        ['block3b_se_excite[0][0]']      \n",
            "                                                                                                  \n",
            " block3b_project_bn (BatchNorma  (None, 28, 28, 40)  160         ['block3b_project_conv[0][0]']   \n",
            " lization)                                                                                        \n",
            "                                                                                                  \n",
            " block3b_drop (Dropout)         (None, 28, 28, 40)   0           ['block3b_project_bn[0][0]']     \n",
            "                                                                                                  \n",
            " block3b_add (Add)              (None, 28, 28, 40)   0           ['block3b_drop[0][0]',           \n",
            "                                                                  'block3a_project_bn[0][0]']     \n",
            "                                                                                                  \n",
            " block4a_expand_conv (Conv2D)   (None, 28, 28, 240)  9600        ['block3b_add[0][0]']            \n",
            "                                                                                                  \n",
            " block4a_expand_bn (BatchNormal  (None, 28, 28, 240)  960        ['block4a_expand_conv[0][0]']    \n",
            " ization)                                                                                         \n",
            "                                                                                                  \n",
            " block4a_expand_activation (Act  (None, 28, 28, 240)  0          ['block4a_expand_bn[0][0]']      \n",
            " ivation)                                                                                         \n",
            "                                                                                                  \n",
            " block4a_dwconv_pad (ZeroPaddin  (None, 29, 29, 240)  0          ['block4a_expand_activation[0][0]\n",
            " g2D)                                                            ']                               \n",
            "                                                                                                  \n",
            " block4a_dwconv (DepthwiseConv2  (None, 14, 14, 240)  2160       ['block4a_dwconv_pad[0][0]']     \n",
            " D)                                                                                               \n",
            "                                                                                                  \n",
            " block4a_bn (BatchNormalization  (None, 14, 14, 240)  960        ['block4a_dwconv[0][0]']         \n",
            " )                                                                                                \n",
            "                                                                                                  \n",
            " block4a_activation (Activation  (None, 14, 14, 240)  0          ['block4a_bn[0][0]']             \n",
            " )                                                                                                \n",
            "                                                                                                  \n",
            " block4a_se_squeeze (GlobalAver  (None, 240)         0           ['block4a_activation[0][0]']     \n",
            " agePooling2D)                                                                                    \n",
            "                                                                                                  \n",
            " block4a_se_reshape (Reshape)   (None, 1, 1, 240)    0           ['block4a_se_squeeze[0][0]']     \n",
            "                                                                                                  \n",
            " block4a_se_reduce (Conv2D)     (None, 1, 1, 10)     2410        ['block4a_se_reshape[0][0]']     \n",
            "                                                                                                  \n",
            " block4a_se_expand (Conv2D)     (None, 1, 1, 240)    2640        ['block4a_se_reduce[0][0]']      \n",
            "                                                                                                  \n",
            " block4a_se_excite (Multiply)   (None, 14, 14, 240)  0           ['block4a_activation[0][0]',     \n",
            "                                                                  'block4a_se_expand[0][0]']      \n",
            "                                                                                                  \n",
            " block4a_project_conv (Conv2D)  (None, 14, 14, 80)   19200       ['block4a_se_excite[0][0]']      \n",
            "                                                                                                  \n",
            " block4a_project_bn (BatchNorma  (None, 14, 14, 80)  320         ['block4a_project_conv[0][0]']   \n",
            " lization)                                                                                        \n",
            "                                                                                                  \n",
            " block4b_expand_conv (Conv2D)   (None, 14, 14, 480)  38400       ['block4a_project_bn[0][0]']     \n",
            "                                                                                                  \n",
            " block4b_expand_bn (BatchNormal  (None, 14, 14, 480)  1920       ['block4b_expand_conv[0][0]']    \n",
            " ization)                                                                                         \n",
            "                                                                                                  \n",
            " block4b_expand_activation (Act  (None, 14, 14, 480)  0          ['block4b_expand_bn[0][0]']      \n",
            " ivation)                                                                                         \n",
            "                                                                                                  \n",
            " block4b_dwconv (DepthwiseConv2  (None, 14, 14, 480)  4320       ['block4b_expand_activation[0][0]\n",
            " D)                                                              ']                               \n",
            "                                                                                                  \n",
            " block4b_bn (BatchNormalization  (None, 14, 14, 480)  1920       ['block4b_dwconv[0][0]']         \n",
            " )                                                                                                \n",
            "                                                                                                  \n",
            " block4b_activation (Activation  (None, 14, 14, 480)  0          ['block4b_bn[0][0]']             \n",
            " )                                                                                                \n",
            "                                                                                                  \n",
            " block4b_se_squeeze (GlobalAver  (None, 480)         0           ['block4b_activation[0][0]']     \n",
            " agePooling2D)                                                                                    \n",
            "                                                                                                  \n",
            " block4b_se_reshape (Reshape)   (None, 1, 1, 480)    0           ['block4b_se_squeeze[0][0]']     \n",
            "                                                                                                  \n",
            " block4b_se_reduce (Conv2D)     (None, 1, 1, 20)     9620        ['block4b_se_reshape[0][0]']     \n",
            "                                                                                                  \n",
            " block4b_se_expand (Conv2D)     (None, 1, 1, 480)    10080       ['block4b_se_reduce[0][0]']      \n",
            "                                                                                                  \n",
            " block4b_se_excite (Multiply)   (None, 14, 14, 480)  0           ['block4b_activation[0][0]',     \n",
            "                                                                  'block4b_se_expand[0][0]']      \n",
            "                                                                                                  \n",
            " block4b_project_conv (Conv2D)  (None, 14, 14, 80)   38400       ['block4b_se_excite[0][0]']      \n",
            "                                                                                                  \n",
            " block4b_project_bn (BatchNorma  (None, 14, 14, 80)  320         ['block4b_project_conv[0][0]']   \n",
            " lization)                                                                                        \n",
            "                                                                                                  \n",
            " block4b_drop (Dropout)         (None, 14, 14, 80)   0           ['block4b_project_bn[0][0]']     \n",
            "                                                                                                  \n",
            " block4b_add (Add)              (None, 14, 14, 80)   0           ['block4b_drop[0][0]',           \n",
            "                                                                  'block4a_project_bn[0][0]']     \n",
            "                                                                                                  \n",
            " block4c_expand_conv (Conv2D)   (None, 14, 14, 480)  38400       ['block4b_add[0][0]']            \n",
            "                                                                                                  \n",
            " block4c_expand_bn (BatchNormal  (None, 14, 14, 480)  1920       ['block4c_expand_conv[0][0]']    \n",
            " ization)                                                                                         \n",
            "                                                                                                  \n",
            " block4c_expand_activation (Act  (None, 14, 14, 480)  0          ['block4c_expand_bn[0][0]']      \n",
            " ivation)                                                                                         \n",
            "                                                                                                  \n",
            " block4c_dwconv (DepthwiseConv2  (None, 14, 14, 480)  4320       ['block4c_expand_activation[0][0]\n",
            " D)                                                              ']                               \n",
            "                                                                                                  \n",
            " block4c_bn (BatchNormalization  (None, 14, 14, 480)  1920       ['block4c_dwconv[0][0]']         \n",
            " )                                                                                                \n",
            "                                                                                                  \n",
            " block4c_activation (Activation  (None, 14, 14, 480)  0          ['block4c_bn[0][0]']             \n",
            " )                                                                                                \n",
            "                                                                                                  \n",
            " block4c_se_squeeze (GlobalAver  (None, 480)         0           ['block4c_activation[0][0]']     \n",
            " agePooling2D)                                                                                    \n",
            "                                                                                                  \n",
            " block4c_se_reshape (Reshape)   (None, 1, 1, 480)    0           ['block4c_se_squeeze[0][0]']     \n",
            "                                                                                                  \n",
            " block4c_se_reduce (Conv2D)     (None, 1, 1, 20)     9620        ['block4c_se_reshape[0][0]']     \n",
            "                                                                                                  \n",
            " block4c_se_expand (Conv2D)     (None, 1, 1, 480)    10080       ['block4c_se_reduce[0][0]']      \n",
            "                                                                                                  \n",
            " block4c_se_excite (Multiply)   (None, 14, 14, 480)  0           ['block4c_activation[0][0]',     \n",
            "                                                                  'block4c_se_expand[0][0]']      \n",
            "                                                                                                  \n",
            " block4c_project_conv (Conv2D)  (None, 14, 14, 80)   38400       ['block4c_se_excite[0][0]']      \n",
            "                                                                                                  \n",
            " block4c_project_bn (BatchNorma  (None, 14, 14, 80)  320         ['block4c_project_conv[0][0]']   \n",
            " lization)                                                                                        \n",
            "                                                                                                  \n",
            " block4c_drop (Dropout)         (None, 14, 14, 80)   0           ['block4c_project_bn[0][0]']     \n",
            "                                                                                                  \n",
            " block4c_add (Add)              (None, 14, 14, 80)   0           ['block4c_drop[0][0]',           \n",
            "                                                                  'block4b_add[0][0]']            \n",
            "                                                                                                  \n",
            " block5a_expand_conv (Conv2D)   (None, 14, 14, 480)  38400       ['block4c_add[0][0]']            \n",
            "                                                                                                  \n",
            " block5a_expand_bn (BatchNormal  (None, 14, 14, 480)  1920       ['block5a_expand_conv[0][0]']    \n",
            " ization)                                                                                         \n",
            "                                                                                                  \n",
            " block5a_expand_activation (Act  (None, 14, 14, 480)  0          ['block5a_expand_bn[0][0]']      \n",
            " ivation)                                                                                         \n",
            "                                                                                                  \n",
            " block5a_dwconv (DepthwiseConv2  (None, 14, 14, 480)  12000      ['block5a_expand_activation[0][0]\n",
            " D)                                                              ']                               \n",
            "                                                                                                  \n",
            " block5a_bn (BatchNormalization  (None, 14, 14, 480)  1920       ['block5a_dwconv[0][0]']         \n",
            " )                                                                                                \n",
            "                                                                                                  \n",
            " block5a_activation (Activation  (None, 14, 14, 480)  0          ['block5a_bn[0][0]']             \n",
            " )                                                                                                \n",
            "                                                                                                  \n",
            " block5a_se_squeeze (GlobalAver  (None, 480)         0           ['block5a_activation[0][0]']     \n",
            " agePooling2D)                                                                                    \n",
            "                                                                                                  \n",
            " block5a_se_reshape (Reshape)   (None, 1, 1, 480)    0           ['block5a_se_squeeze[0][0]']     \n",
            "                                                                                                  \n",
            " block5a_se_reduce (Conv2D)     (None, 1, 1, 20)     9620        ['block5a_se_reshape[0][0]']     \n",
            "                                                                                                  \n",
            " block5a_se_expand (Conv2D)     (None, 1, 1, 480)    10080       ['block5a_se_reduce[0][0]']      \n",
            "                                                                                                  \n",
            " block5a_se_excite (Multiply)   (None, 14, 14, 480)  0           ['block5a_activation[0][0]',     \n",
            "                                                                  'block5a_se_expand[0][0]']      \n",
            "                                                                                                  \n",
            " block5a_project_conv (Conv2D)  (None, 14, 14, 112)  53760       ['block5a_se_excite[0][0]']      \n",
            "                                                                                                  \n",
            " block5a_project_bn (BatchNorma  (None, 14, 14, 112)  448        ['block5a_project_conv[0][0]']   \n",
            " lization)                                                                                        \n",
            "                                                                                                  \n",
            " block5b_expand_conv (Conv2D)   (None, 14, 14, 672)  75264       ['block5a_project_bn[0][0]']     \n",
            "                                                                                                  \n",
            " block5b_expand_bn (BatchNormal  (None, 14, 14, 672)  2688       ['block5b_expand_conv[0][0]']    \n",
            " ization)                                                                                         \n",
            "                                                                                                  \n",
            " block5b_expand_activation (Act  (None, 14, 14, 672)  0          ['block5b_expand_bn[0][0]']      \n",
            " ivation)                                                                                         \n",
            "                                                                                                  \n",
            " block5b_dwconv (DepthwiseConv2  (None, 14, 14, 672)  16800      ['block5b_expand_activation[0][0]\n",
            " D)                                                              ']                               \n",
            "                                                                                                  \n",
            " block5b_bn (BatchNormalization  (None, 14, 14, 672)  2688       ['block5b_dwconv[0][0]']         \n",
            " )                                                                                                \n",
            "                                                                                                  \n",
            " block5b_activation (Activation  (None, 14, 14, 672)  0          ['block5b_bn[0][0]']             \n",
            " )                                                                                                \n",
            "                                                                                                  \n",
            " block5b_se_squeeze (GlobalAver  (None, 672)         0           ['block5b_activation[0][0]']     \n",
            " agePooling2D)                                                                                    \n",
            "                                                                                                  \n",
            " block5b_se_reshape (Reshape)   (None, 1, 1, 672)    0           ['block5b_se_squeeze[0][0]']     \n",
            "                                                                                                  \n",
            " block5b_se_reduce (Conv2D)     (None, 1, 1, 28)     18844       ['block5b_se_reshape[0][0]']     \n",
            "                                                                                                  \n",
            " block5b_se_expand (Conv2D)     (None, 1, 1, 672)    19488       ['block5b_se_reduce[0][0]']      \n",
            "                                                                                                  \n",
            " block5b_se_excite (Multiply)   (None, 14, 14, 672)  0           ['block5b_activation[0][0]',     \n",
            "                                                                  'block5b_se_expand[0][0]']      \n",
            "                                                                                                  \n",
            " block5b_project_conv (Conv2D)  (None, 14, 14, 112)  75264       ['block5b_se_excite[0][0]']      \n",
            "                                                                                                  \n",
            " block5b_project_bn (BatchNorma  (None, 14, 14, 112)  448        ['block5b_project_conv[0][0]']   \n",
            " lization)                                                                                        \n",
            "                                                                                                  \n",
            " block5b_drop (Dropout)         (None, 14, 14, 112)  0           ['block5b_project_bn[0][0]']     \n",
            "                                                                                                  \n",
            " block5b_add (Add)              (None, 14, 14, 112)  0           ['block5b_drop[0][0]',           \n",
            "                                                                  'block5a_project_bn[0][0]']     \n",
            "                                                                                                  \n",
            " block5c_expand_conv (Conv2D)   (None, 14, 14, 672)  75264       ['block5b_add[0][0]']            \n",
            "                                                                                                  \n",
            " block5c_expand_bn (BatchNormal  (None, 14, 14, 672)  2688       ['block5c_expand_conv[0][0]']    \n",
            " ization)                                                                                         \n",
            "                                                                                                  \n",
            " block5c_expand_activation (Act  (None, 14, 14, 672)  0          ['block5c_expand_bn[0][0]']      \n",
            " ivation)                                                                                         \n",
            "                                                                                                  \n",
            " block5c_dwconv (DepthwiseConv2  (None, 14, 14, 672)  16800      ['block5c_expand_activation[0][0]\n",
            " D)                                                              ']                               \n",
            "                                                                                                  \n",
            " block5c_bn (BatchNormalization  (None, 14, 14, 672)  2688       ['block5c_dwconv[0][0]']         \n",
            " )                                                                                                \n",
            "                                                                                                  \n",
            " block5c_activation (Activation  (None, 14, 14, 672)  0          ['block5c_bn[0][0]']             \n",
            " )                                                                                                \n",
            "                                                                                                  \n",
            " block5c_se_squeeze (GlobalAver  (None, 672)         0           ['block5c_activation[0][0]']     \n",
            " agePooling2D)                                                                                    \n",
            "                                                                                                  \n",
            " block5c_se_reshape (Reshape)   (None, 1, 1, 672)    0           ['block5c_se_squeeze[0][0]']     \n",
            "                                                                                                  \n",
            " block5c_se_reduce (Conv2D)     (None, 1, 1, 28)     18844       ['block5c_se_reshape[0][0]']     \n",
            "                                                                                                  \n",
            " block5c_se_expand (Conv2D)     (None, 1, 1, 672)    19488       ['block5c_se_reduce[0][0]']      \n",
            "                                                                                                  \n",
            " block5c_se_excite (Multiply)   (None, 14, 14, 672)  0           ['block5c_activation[0][0]',     \n",
            "                                                                  'block5c_se_expand[0][0]']      \n",
            "                                                                                                  \n",
            " block5c_project_conv (Conv2D)  (None, 14, 14, 112)  75264       ['block5c_se_excite[0][0]']      \n",
            "                                                                                                  \n",
            " block5c_project_bn (BatchNorma  (None, 14, 14, 112)  448        ['block5c_project_conv[0][0]']   \n",
            " lization)                                                                                        \n",
            "                                                                                                  \n",
            " block5c_drop (Dropout)         (None, 14, 14, 112)  0           ['block5c_project_bn[0][0]']     \n",
            "                                                                                                  \n",
            " block5c_add (Add)              (None, 14, 14, 112)  0           ['block5c_drop[0][0]',           \n",
            "                                                                  'block5b_add[0][0]']            \n",
            "                                                                                                  \n",
            " block6a_expand_conv (Conv2D)   (None, 14, 14, 672)  75264       ['block5c_add[0][0]']            \n",
            "                                                                                                  \n",
            " block6a_expand_bn (BatchNormal  (None, 14, 14, 672)  2688       ['block6a_expand_conv[0][0]']    \n",
            " ization)                                                                                         \n",
            "                                                                                                  \n",
            " block6a_expand_activation (Act  (None, 14, 14, 672)  0          ['block6a_expand_bn[0][0]']      \n",
            " ivation)                                                                                         \n",
            "                                                                                                  \n",
            " block6a_dwconv_pad (ZeroPaddin  (None, 17, 17, 672)  0          ['block6a_expand_activation[0][0]\n",
            " g2D)                                                            ']                               \n",
            "                                                                                                  \n",
            " block6a_dwconv (DepthwiseConv2  (None, 7, 7, 672)   16800       ['block6a_dwconv_pad[0][0]']     \n",
            " D)                                                                                               \n",
            "                                                                                                  \n",
            " block6a_bn (BatchNormalization  (None, 7, 7, 672)   2688        ['block6a_dwconv[0][0]']         \n",
            " )                                                                                                \n",
            "                                                                                                  \n",
            " block6a_activation (Activation  (None, 7, 7, 672)   0           ['block6a_bn[0][0]']             \n",
            " )                                                                                                \n",
            "                                                                                                  \n",
            " block6a_se_squeeze (GlobalAver  (None, 672)         0           ['block6a_activation[0][0]']     \n",
            " agePooling2D)                                                                                    \n",
            "                                                                                                  \n",
            " block6a_se_reshape (Reshape)   (None, 1, 1, 672)    0           ['block6a_se_squeeze[0][0]']     \n",
            "                                                                                                  \n",
            " block6a_se_reduce (Conv2D)     (None, 1, 1, 28)     18844       ['block6a_se_reshape[0][0]']     \n",
            "                                                                                                  \n",
            " block6a_se_expand (Conv2D)     (None, 1, 1, 672)    19488       ['block6a_se_reduce[0][0]']      \n",
            "                                                                                                  \n",
            " block6a_se_excite (Multiply)   (None, 7, 7, 672)    0           ['block6a_activation[0][0]',     \n",
            "                                                                  'block6a_se_expand[0][0]']      \n",
            "                                                                                                  \n",
            " block6a_project_conv (Conv2D)  (None, 7, 7, 192)    129024      ['block6a_se_excite[0][0]']      \n",
            "                                                                                                  \n",
            " block6a_project_bn (BatchNorma  (None, 7, 7, 192)   768         ['block6a_project_conv[0][0]']   \n",
            " lization)                                                                                        \n",
            "                                                                                                  \n",
            " block6b_expand_conv (Conv2D)   (None, 7, 7, 1152)   221184      ['block6a_project_bn[0][0]']     \n",
            "                                                                                                  \n",
            " block6b_expand_bn (BatchNormal  (None, 7, 7, 1152)  4608        ['block6b_expand_conv[0][0]']    \n",
            " ization)                                                                                         \n",
            "                                                                                                  \n",
            " block6b_expand_activation (Act  (None, 7, 7, 1152)  0           ['block6b_expand_bn[0][0]']      \n",
            " ivation)                                                                                         \n",
            "                                                                                                  \n",
            " block6b_dwconv (DepthwiseConv2  (None, 7, 7, 1152)  28800       ['block6b_expand_activation[0][0]\n",
            " D)                                                              ']                               \n",
            "                                                                                                  \n",
            " block6b_bn (BatchNormalization  (None, 7, 7, 1152)  4608        ['block6b_dwconv[0][0]']         \n",
            " )                                                                                                \n",
            "                                                                                                  \n",
            " block6b_activation (Activation  (None, 7, 7, 1152)  0           ['block6b_bn[0][0]']             \n",
            " )                                                                                                \n",
            "                                                                                                  \n",
            " block6b_se_squeeze (GlobalAver  (None, 1152)        0           ['block6b_activation[0][0]']     \n",
            " agePooling2D)                                                                                    \n",
            "                                                                                                  \n",
            " block6b_se_reshape (Reshape)   (None, 1, 1, 1152)   0           ['block6b_se_squeeze[0][0]']     \n",
            "                                                                                                  \n",
            " block6b_se_reduce (Conv2D)     (None, 1, 1, 48)     55344       ['block6b_se_reshape[0][0]']     \n",
            "                                                                                                  \n",
            " block6b_se_expand (Conv2D)     (None, 1, 1, 1152)   56448       ['block6b_se_reduce[0][0]']      \n",
            "                                                                                                  \n",
            " block6b_se_excite (Multiply)   (None, 7, 7, 1152)   0           ['block6b_activation[0][0]',     \n",
            "                                                                  'block6b_se_expand[0][0]']      \n",
            "                                                                                                  \n",
            " block6b_project_conv (Conv2D)  (None, 7, 7, 192)    221184      ['block6b_se_excite[0][0]']      \n",
            "                                                                                                  \n",
            " block6b_project_bn (BatchNorma  (None, 7, 7, 192)   768         ['block6b_project_conv[0][0]']   \n",
            " lization)                                                                                        \n",
            "                                                                                                  \n",
            " block6b_drop (Dropout)         (None, 7, 7, 192)    0           ['block6b_project_bn[0][0]']     \n",
            "                                                                                                  \n",
            " block6b_add (Add)              (None, 7, 7, 192)    0           ['block6b_drop[0][0]',           \n",
            "                                                                  'block6a_project_bn[0][0]']     \n",
            "                                                                                                  \n",
            " block6c_expand_conv (Conv2D)   (None, 7, 7, 1152)   221184      ['block6b_add[0][0]']            \n",
            "                                                                                                  \n",
            " block6c_expand_bn (BatchNormal  (None, 7, 7, 1152)  4608        ['block6c_expand_conv[0][0]']    \n",
            " ization)                                                                                         \n",
            "                                                                                                  \n",
            " block6c_expand_activation (Act  (None, 7, 7, 1152)  0           ['block6c_expand_bn[0][0]']      \n",
            " ivation)                                                                                         \n",
            "                                                                                                  \n",
            " block6c_dwconv (DepthwiseConv2  (None, 7, 7, 1152)  28800       ['block6c_expand_activation[0][0]\n",
            " D)                                                              ']                               \n",
            "                                                                                                  \n",
            " block6c_bn (BatchNormalization  (None, 7, 7, 1152)  4608        ['block6c_dwconv[0][0]']         \n",
            " )                                                                                                \n",
            "                                                                                                  \n",
            " block6c_activation (Activation  (None, 7, 7, 1152)  0           ['block6c_bn[0][0]']             \n",
            " )                                                                                                \n",
            "                                                                                                  \n",
            " block6c_se_squeeze (GlobalAver  (None, 1152)        0           ['block6c_activation[0][0]']     \n",
            " agePooling2D)                                                                                    \n",
            "                                                                                                  \n",
            " block6c_se_reshape (Reshape)   (None, 1, 1, 1152)   0           ['block6c_se_squeeze[0][0]']     \n",
            "                                                                                                  \n",
            " block6c_se_reduce (Conv2D)     (None, 1, 1, 48)     55344       ['block6c_se_reshape[0][0]']     \n",
            "                                                                                                  \n",
            " block6c_se_expand (Conv2D)     (None, 1, 1, 1152)   56448       ['block6c_se_reduce[0][0]']      \n",
            "                                                                                                  \n",
            " block6c_se_excite (Multiply)   (None, 7, 7, 1152)   0           ['block6c_activation[0][0]',     \n",
            "                                                                  'block6c_se_expand[0][0]']      \n",
            "                                                                                                  \n",
            " block6c_project_conv (Conv2D)  (None, 7, 7, 192)    221184      ['block6c_se_excite[0][0]']      \n",
            "                                                                                                  \n",
            " block6c_project_bn (BatchNorma  (None, 7, 7, 192)   768         ['block6c_project_conv[0][0]']   \n",
            " lization)                                                                                        \n",
            "                                                                                                  \n",
            " block6c_drop (Dropout)         (None, 7, 7, 192)    0           ['block6c_project_bn[0][0]']     \n",
            "                                                                                                  \n",
            " block6c_add (Add)              (None, 7, 7, 192)    0           ['block6c_drop[0][0]',           \n",
            "                                                                  'block6b_add[0][0]']            \n",
            "                                                                                                  \n",
            " block6d_expand_conv (Conv2D)   (None, 7, 7, 1152)   221184      ['block6c_add[0][0]']            \n",
            "                                                                                                  \n",
            " block6d_expand_bn (BatchNormal  (None, 7, 7, 1152)  4608        ['block6d_expand_conv[0][0]']    \n",
            " ization)                                                                                         \n",
            "                                                                                                  \n",
            " block6d_expand_activation (Act  (None, 7, 7, 1152)  0           ['block6d_expand_bn[0][0]']      \n",
            " ivation)                                                                                         \n",
            "                                                                                                  \n",
            " block6d_dwconv (DepthwiseConv2  (None, 7, 7, 1152)  28800       ['block6d_expand_activation[0][0]\n",
            " D)                                                              ']                               \n",
            "                                                                                                  \n",
            " block6d_bn (BatchNormalization  (None, 7, 7, 1152)  4608        ['block6d_dwconv[0][0]']         \n",
            " )                                                                                                \n",
            "                                                                                                  \n",
            " block6d_activation (Activation  (None, 7, 7, 1152)  0           ['block6d_bn[0][0]']             \n",
            " )                                                                                                \n",
            "                                                                                                  \n",
            " block6d_se_squeeze (GlobalAver  (None, 1152)        0           ['block6d_activation[0][0]']     \n",
            " agePooling2D)                                                                                    \n",
            "                                                                                                  \n",
            " block6d_se_reshape (Reshape)   (None, 1, 1, 1152)   0           ['block6d_se_squeeze[0][0]']     \n",
            "                                                                                                  \n",
            " block6d_se_reduce (Conv2D)     (None, 1, 1, 48)     55344       ['block6d_se_reshape[0][0]']     \n",
            "                                                                                                  \n",
            " block6d_se_expand (Conv2D)     (None, 1, 1, 1152)   56448       ['block6d_se_reduce[0][0]']      \n",
            "                                                                                                  \n",
            " block6d_se_excite (Multiply)   (None, 7, 7, 1152)   0           ['block6d_activation[0][0]',     \n",
            "                                                                  'block6d_se_expand[0][0]']      \n",
            "                                                                                                  \n",
            " block6d_project_conv (Conv2D)  (None, 7, 7, 192)    221184      ['block6d_se_excite[0][0]']      \n",
            "                                                                                                  \n",
            " block6d_project_bn (BatchNorma  (None, 7, 7, 192)   768         ['block6d_project_conv[0][0]']   \n",
            " lization)                                                                                        \n",
            "                                                                                                  \n",
            " block6d_drop (Dropout)         (None, 7, 7, 192)    0           ['block6d_project_bn[0][0]']     \n",
            "                                                                                                  \n",
            " block6d_add (Add)              (None, 7, 7, 192)    0           ['block6d_drop[0][0]',           \n",
            "                                                                  'block6c_add[0][0]']            \n",
            "                                                                                                  \n",
            " block7a_expand_conv (Conv2D)   (None, 7, 7, 1152)   221184      ['block6d_add[0][0]']            \n",
            "                                                                                                  \n",
            " block7a_expand_bn (BatchNormal  (None, 7, 7, 1152)  4608        ['block7a_expand_conv[0][0]']    \n",
            " ization)                                                                                         \n",
            "                                                                                                  \n",
            " block7a_expand_activation (Act  (None, 7, 7, 1152)  0           ['block7a_expand_bn[0][0]']      \n",
            " ivation)                                                                                         \n",
            "                                                                                                  \n",
            " block7a_dwconv (DepthwiseConv2  (None, 7, 7, 1152)  10368       ['block7a_expand_activation[0][0]\n",
            " D)                                                              ']                               \n",
            "                                                                                                  \n",
            " block7a_bn (BatchNormalization  (None, 7, 7, 1152)  4608        ['block7a_dwconv[0][0]']         \n",
            " )                                                                                                \n",
            "                                                                                                  \n",
            " block7a_activation (Activation  (None, 7, 7, 1152)  0           ['block7a_bn[0][0]']             \n",
            " )                                                                                                \n",
            "                                                                                                  \n",
            " block7a_se_squeeze (GlobalAver  (None, 1152)        0           ['block7a_activation[0][0]']     \n",
            " agePooling2D)                                                                                    \n",
            "                                                                                                  \n",
            " block7a_se_reshape (Reshape)   (None, 1, 1, 1152)   0           ['block7a_se_squeeze[0][0]']     \n",
            "                                                                                                  \n",
            " block7a_se_reduce (Conv2D)     (None, 1, 1, 48)     55344       ['block7a_se_reshape[0][0]']     \n",
            "                                                                                                  \n",
            " block7a_se_expand (Conv2D)     (None, 1, 1, 1152)   56448       ['block7a_se_reduce[0][0]']      \n",
            "                                                                                                  \n",
            " block7a_se_excite (Multiply)   (None, 7, 7, 1152)   0           ['block7a_activation[0][0]',     \n",
            "                                                                  'block7a_se_expand[0][0]']      \n",
            "                                                                                                  \n",
            " block7a_project_conv (Conv2D)  (None, 7, 7, 320)    368640      ['block7a_se_excite[0][0]']      \n",
            "                                                                                                  \n",
            " block7a_project_bn (BatchNorma  (None, 7, 7, 320)   1280        ['block7a_project_conv[0][0]']   \n",
            " lization)                                                                                        \n",
            "                                                                                                  \n",
            " top_conv (Conv2D)              (None, 7, 7, 1280)   409600      ['block7a_project_bn[0][0]']     \n",
            "                                                                                                  \n",
            " top_bn (BatchNormalization)    (None, 7, 7, 1280)   5120        ['top_conv[0][0]']               \n",
            "                                                                                                  \n",
            " top_activation (Activation)    (None, 7, 7, 1280)   0           ['top_bn[0][0]']                 \n",
            "                                                                                                  \n",
            " flatten (Flatten)              (None, 62720)        0           ['top_activation[0][0]']         \n",
            "                                                                                                  \n",
            " dense (Dense)                  (None, 159)          9972639     ['flatten[0][0]']                \n",
            "                                                                                                  \n",
            "==================================================================================================\n",
            "Total params: 14,022,210\n",
            "Trainable params: 13,980,187\n",
            "Non-trainable params: 42,023\n",
            "__________________________________________________________________________________________________\n"
          ]
        }
      ]
    },
    {
      "cell_type": "code",
      "source": [
        "# tell the model what cost and optimization method to use\n",
        "model.compile(\n",
        "  loss='categorical_crossentropy',\n",
        "  optimizer='adam',\n",
        "  metrics=['accuracy']\n",
        ")\n"
      ],
      "metadata": {
        "id": "ToT6jj369s2F"
      },
      "execution_count": 13,
      "outputs": []
    },
    {
      "cell_type": "code",
      "source": [
        "# Use the Image Data Generator to import the images from the dataset\n",
        "from tensorflow.keras.preprocessing.image import ImageDataGenerator\n",
        "\n",
        "train_datagen = ImageDataGenerator(rescale = 1./255,\n",
        "                                   shear_range = 0.2,\n",
        "                                   zoom_range = 0.2,\n",
        "                                   horizontal_flip = True)\n",
        "\n",
        "test_datagen = ImageDataGenerator(rescale = 1./255)\n"
      ],
      "metadata": {
        "id": "3_tib2uq9vBC"
      },
      "execution_count": 14,
      "outputs": []
    },
    {
      "cell_type": "code",
      "source": [
        "# Make sure you provide the same target size as initialied for the image size\n",
        "training_set = train_datagen.flow_from_directory(train_path,\n",
        "                                                 target_size = (224, 224),\n",
        "                                                 batch_size = 32,\n",
        "                                                 class_mode = 'categorical')\n"
      ],
      "metadata": {
        "colab": {
          "base_uri": "https://localhost:8080/"
        },
        "id": "8pUcJhUZ9vvp",
        "outputId": "44df60fd-09d4-473e-9dc4-3a325c283e32"
      },
      "execution_count": 15,
      "outputs": [
        {
          "output_type": "stream",
          "name": "stdout",
          "text": [
            "Found 14600 images belonging to 159 classes.\n"
          ]
        }
      ]
    },
    {
      "cell_type": "code",
      "source": [
        "test_set = test_datagen.flow_from_directory(valid_path,\n",
        "                                            target_size = (224, 224),\n",
        "                                            batch_size = 32,\n",
        "                                            class_mode = 'categorical')"
      ],
      "metadata": {
        "colab": {
          "base_uri": "https://localhost:8080/"
        },
        "id": "ZdU9Dpai9vqK",
        "outputId": "b7068d84-9dc4-413e-9ebc-a89bbbca65e0"
      },
      "execution_count": 16,
      "outputs": [
        {
          "output_type": "stream",
          "name": "stdout",
          "text": [
            "Found 9525 images belonging to 159 classes.\n"
          ]
        }
      ]
    },
    {
      "cell_type": "code",
      "source": [
        "# fit the model\n",
        "# Run the cell. It will take some time to execute\n",
        "r = model.fit(\n",
        "  training_set,\n",
        "  validation_data=test_set,\n",
        "  epochs=10,\n",
        "  steps_per_epoch=len(training_set),\n",
        "  validation_steps=len(test_set)\n",
        ")\n"
      ],
      "metadata": {
        "colab": {
          "base_uri": "https://localhost:8080/"
        },
        "id": "mmxZ7OJX9vhl",
        "outputId": "0a234158-b541-4ea6-9331-1bd7f44f4dea"
      },
      "execution_count": 17,
      "outputs": [
        {
          "output_type": "stream",
          "name": "stdout",
          "text": [
            "Epoch 1/10\n",
            "  5/457 [..............................] - ETA: 39:52 - loss: 8.7923 - accuracy: 0.0312"
          ]
        },
        {
          "output_type": "stream",
          "name": "stderr",
          "text": [
            "/usr/local/lib/python3.9/dist-packages/PIL/Image.py:975: UserWarning: Palette images with Transparency expressed in bytes should be converted to RGBA images\n",
            "  warnings.warn(\n"
          ]
        },
        {
          "output_type": "stream",
          "name": "stdout",
          "text": [
            "457/457 [==============================] - 5259s 11s/step - loss: 3.5491 - accuracy: 0.4553 - val_loss: 12.6343 - val_accuracy: 0.0115\n",
            "Epoch 2/10\n",
            "457/457 [==============================] - 723s 2s/step - loss: 1.5801 - accuracy: 0.7242 - val_loss: 90.5714 - val_accuracy: 0.0062\n",
            "Epoch 3/10\n",
            "457/457 [==============================] - 731s 2s/step - loss: 1.2175 - accuracy: 0.7918 - val_loss: 14.3374 - val_accuracy: 0.0753\n",
            "Epoch 4/10\n",
            "457/457 [==============================] - 724s 2s/step - loss: 1.1781 - accuracy: 0.8084 - val_loss: 20.3025 - val_accuracy: 0.0407\n",
            "Epoch 5/10\n",
            "457/457 [==============================] - 723s 2s/step - loss: 1.0058 - accuracy: 0.8462 - val_loss: 19.7415 - val_accuracy: 0.0185\n",
            "Epoch 6/10\n",
            "457/457 [==============================] - 729s 2s/step - loss: 1.0019 - accuracy: 0.8564 - val_loss: 34.9801 - val_accuracy: 0.0058\n",
            "Epoch 7/10\n",
            "457/457 [==============================] - 710s 2s/step - loss: 1.0452 - accuracy: 0.8618 - val_loss: 31.1413 - val_accuracy: 0.0079\n",
            "Epoch 8/10\n",
            "457/457 [==============================] - 702s 2s/step - loss: 0.9978 - accuracy: 0.8751 - val_loss: 45.0258 - val_accuracy: 0.0061\n",
            "Epoch 9/10\n",
            "457/457 [==============================] - 713s 2s/step - loss: 0.8749 - accuracy: 0.8925 - val_loss: 36.6845 - val_accuracy: 0.0112\n",
            "Epoch 10/10\n",
            "457/457 [==============================] - 712s 2s/step - loss: 0.9587 - accuracy: 0.8916 - val_loss: 28.6937 - val_accuracy: 0.0199\n"
          ]
        }
      ]
    },
    {
      "cell_type": "code",
      "source": [
        "# plot the loss\n",
        "import matplotlib.pyplot as plt\n",
        "plt.plot(r.history['loss'], label='train loss')\n",
        "plt.plot(r.history['val_loss'], label='val loss')\n",
        "plt.legend()\n",
        "plt.show()\n",
        "plt.savefig('LossVal_loss')\n",
        "\n",
        "# plot the accuracy\n",
        "plt.plot(r.history['accuracy'], label='train acc')\n",
        "plt.plot(r.history['val_accuracy'], label='val acc')\n",
        "plt.legend()\n",
        "plt.show()\n",
        "plt.savefig('AccVal_acc')\n"
      ],
      "metadata": {
        "id": "8MOqQWSo-AO4",
        "colab": {
          "base_uri": "https://localhost:8080/",
          "height": 245
        },
        "outputId": "5b88be0b-0fa0-4d39-e616-4a6f98d61ec7"
      },
      "execution_count": 3,
      "outputs": [
        {
          "output_type": "error",
          "ename": "NameError",
          "evalue": "ignored",
          "traceback": [
            "\u001b[0;31m---------------------------------------------------------------------------\u001b[0m",
            "\u001b[0;31mNameError\u001b[0m                                 Traceback (most recent call last)",
            "\u001b[0;32m<ipython-input-3-d118822e3500>\u001b[0m in \u001b[0;36m<module>\u001b[0;34m\u001b[0m\n\u001b[1;32m      1\u001b[0m \u001b[0;31m# plot the loss\u001b[0m\u001b[0;34m\u001b[0m\u001b[0;34m\u001b[0m\u001b[0m\n\u001b[1;32m      2\u001b[0m \u001b[0;32mimport\u001b[0m \u001b[0mmatplotlib\u001b[0m\u001b[0;34m.\u001b[0m\u001b[0mpyplot\u001b[0m \u001b[0;32mas\u001b[0m \u001b[0mplt\u001b[0m\u001b[0;34m\u001b[0m\u001b[0;34m\u001b[0m\u001b[0m\n\u001b[0;32m----> 3\u001b[0;31m \u001b[0mplt\u001b[0m\u001b[0;34m.\u001b[0m\u001b[0mplot\u001b[0m\u001b[0;34m(\u001b[0m\u001b[0mr\u001b[0m\u001b[0;34m.\u001b[0m\u001b[0mhistory\u001b[0m\u001b[0;34m[\u001b[0m\u001b[0;34m'loss'\u001b[0m\u001b[0;34m]\u001b[0m\u001b[0;34m,\u001b[0m \u001b[0mlabel\u001b[0m\u001b[0;34m=\u001b[0m\u001b[0;34m'train loss'\u001b[0m\u001b[0;34m)\u001b[0m\u001b[0;34m\u001b[0m\u001b[0;34m\u001b[0m\u001b[0m\n\u001b[0m\u001b[1;32m      4\u001b[0m \u001b[0mplt\u001b[0m\u001b[0;34m.\u001b[0m\u001b[0mplot\u001b[0m\u001b[0;34m(\u001b[0m\u001b[0mr\u001b[0m\u001b[0;34m.\u001b[0m\u001b[0mhistory\u001b[0m\u001b[0;34m[\u001b[0m\u001b[0;34m'val_loss'\u001b[0m\u001b[0;34m]\u001b[0m\u001b[0;34m,\u001b[0m \u001b[0mlabel\u001b[0m\u001b[0;34m=\u001b[0m\u001b[0;34m'val loss'\u001b[0m\u001b[0;34m)\u001b[0m\u001b[0;34m\u001b[0m\u001b[0;34m\u001b[0m\u001b[0m\n\u001b[1;32m      5\u001b[0m \u001b[0mplt\u001b[0m\u001b[0;34m.\u001b[0m\u001b[0mlegend\u001b[0m\u001b[0;34m(\u001b[0m\u001b[0;34m)\u001b[0m\u001b[0;34m\u001b[0m\u001b[0;34m\u001b[0m\u001b[0m\n",
            "\u001b[0;31mNameError\u001b[0m: name 'r' is not defined"
          ]
        }
      ]
    },
    {
      "cell_type": "markdown",
      "source": [
        "아래는 모델저장 할때 체크"
      ],
      "metadata": {
        "id": "tBRoIO1wKXsk"
      }
    },
    {
      "cell_type": "code",
      "source": [
        "import matplotlib.pyplot as plt\n"
      ],
      "metadata": {
        "id": "f3-rwJUp9_Pj"
      },
      "execution_count": null,
      "outputs": []
    },
    {
      "cell_type": "code",
      "execution_count": null,
      "metadata": {
        "colab": {
          "base_uri": "https://localhost:8080/",
          "height": 394
        },
        "id": "HAhlcsDK7g_n",
        "outputId": "3f6ba12c-a1d5-4615-944e-87d56b1af41b"
      },
      "outputs": [
        {
          "output_type": "error",
          "ename": "ModuleNotFoundError",
          "evalue": "ignored",
          "traceback": [
            "\u001b[0;31m---------------------------------------------------------------------------\u001b[0m",
            "\u001b[0;31mModuleNotFoundError\u001b[0m                       Traceback (most recent call last)",
            "\u001b[0;32m<ipython-input-38-da9d99066a4c>\u001b[0m in \u001b[0;36m<module>\u001b[0;34m\u001b[0m\n\u001b[0;32m----> 1\u001b[0;31m \u001b[0;32mimport\u001b[0m \u001b[0mpytorch\u001b[0m\u001b[0;34m\u001b[0m\u001b[0;34m\u001b[0m\u001b[0m\n\u001b[0m\u001b[1;32m      2\u001b[0m \u001b[0moptimizer\u001b[0m \u001b[0;34m=\u001b[0m \u001b[0mtorch\u001b[0m\u001b[0;34m.\u001b[0m\u001b[0moptim\u001b[0m\u001b[0;34m.\u001b[0m\u001b[0mRAdam\u001b[0m\u001b[0;34m(\u001b[0m\u001b[0mmodel\u001b[0m\u001b[0;34m.\u001b[0m\u001b[0mparameters\u001b[0m\u001b[0;34m(\u001b[0m\u001b[0;34m)\u001b[0m\u001b[0;34m)\u001b[0m\u001b[0;34m\u001b[0m\u001b[0;34m\u001b[0m\u001b[0m\n\u001b[1;32m      3\u001b[0m \u001b[0mnum_epochs\u001b[0m \u001b[0;34m=\u001b[0m \u001b[0;36m10\u001b[0m\u001b[0;34m\u001b[0m\u001b[0;34m\u001b[0m\u001b[0m\n\u001b[1;32m      4\u001b[0m \u001b[0mbatch_size\u001b[0m \u001b[0;34m=\u001b[0m \u001b[0;36m32\u001b[0m\u001b[0;34m\u001b[0m\u001b[0;34m\u001b[0m\u001b[0m\n\u001b[1;32m      5\u001b[0m \u001b[0mloss_fn\u001b[0m \u001b[0;34m=\u001b[0m \u001b[0mtorch\u001b[0m\u001b[0;34m.\u001b[0m\u001b[0mnn\u001b[0m\u001b[0;34m.\u001b[0m\u001b[0mCrossEntropyLoss\u001b[0m\u001b[0;34m(\u001b[0m\u001b[0;34m)\u001b[0m \u001b[0;31m# 다중분류 손실객체\u001b[0m\u001b[0;34m\u001b[0m\u001b[0;34m\u001b[0m\u001b[0m\n",
            "\u001b[0;31mModuleNotFoundError\u001b[0m: No module named 'pytorch'",
            "",
            "\u001b[0;31m---------------------------------------------------------------------------\u001b[0;32m\nNOTE: If your import is failing due to a missing package, you can\nmanually install dependencies using either !pip or !apt.\n\nTo view examples of installing some common dependencies, click the\n\"Open Examples\" button below.\n\u001b[0;31m---------------------------------------------------------------------------\u001b[0m\n"
          ],
          "errorDetails": {
            "actions": [
              {
                "action": "open_url",
                "actionText": "Open Examples",
                "url": "/notebooks/snippets/importing_libraries.ipynb"
              }
            ]
          }
        }
      ],
      "source": [
        " pytorch\n",
        "optimizer = torch.optim.RAdam(model.parameters())\n",
        "num_epochs = 10\n",
        "batch_size = 32 \n",
        "loss_fn = torch.nn.CrossEntropyLoss() # 다중분류 손실객체\n",
        "\n",
        "def calc_accuracy(X,Y):\n",
        "    max_vals, max_indices = torch.max(X, 1)\n",
        "    train_acc = (max_indices == Y).sum().data.cpu().numpy()/max_indices.size()[0]\n",
        "    return train_acc\n",
        "\n",
        "for e in range(num_epochs):\n",
        "      train_acc = 0.0\n",
        "      test_acc = 0.0\n",
        "\n",
        "      model.train()\n",
        "      for batch_id, batch in enumerate(tqdm_notebook(train_dataloader)):\n",
        "          optimizer.zero_grad()\n",
        "          out = model(batch['img'])\n",
        "          loss = loss_fn(out, batch['y'])\n",
        "          loss.backward()\n",
        "          # torch.nn.utils.clip_grad_norm_(model.parameters(), max_grad_norm)\n",
        "          \n",
        "          optimizer.step()\n",
        "          # scheduler.step()  # Update learning rate schedule\n",
        "          train_acc += calc_accuracy(out, batch['y'])\n",
        "          if batch_id % 200 == 0:\n",
        "              print(\"epoch {} batch id {} loss {} train acc {}\".format(e+1, batch_id+1 , loss.data.cpu().numpy(), train_acc / (batch_id+1) ))\n",
        "      print(\"epoch {} train acc {}\".format(e+1, train_acc / (batch_id+1)))\n",
        "      \n",
        "      model.eval()\n",
        "      \n",
        "      for batch_id, batch in enumerate(tqdm_notebook(test_dataloader)):\n",
        "          out = model(batch['img'])    \n",
        "          test_acc += calc_accuracy(out, batch['y'])\n",
        "\n",
        "      print(\"epoch {} test acc {}\".format(e+1, test_acc / (batch_id+1)))\n",
        "      # torch 모델 저장 ==================================================================\n",
        "      torch.save(model.state_dict(), f\"/content/gdrive/MyDrive/AIHUB_IMAGEDATA/Result{e}.pth\")\n",
        "      torch.cuda.empty_cache() \n",
        "\n"
      ]
    },
    {
      "cell_type": "code",
      "source": [
        "# ex ) FILE_NAME = f\"모델을 저장할 경로/\" + f\"모델 저장 이름\" + f\"확장자\"\n",
        "FILE_NAME = \"/content/gdrive/MyDrive/AIHUB_IMAGEDATA/model.pth\"\n",
        "\n",
        "\n",
        "\n",
        "# 모델 상태만 저장하는 방식 \n",
        "# model의 상태는 stated_dict이라는, 모델 내부 딕셔너리 객체에 전부 저장됩니다. \n",
        "# 그래서 하기 코드로 모델을 저장합니다. \n",
        "torch.save(model.state_dict(), FILE_NAME )"
      ],
      "metadata": {
        "id": "BJq3pjAV7nDe"
      },
      "execution_count": null,
      "outputs": []
    },
    {
      "cell_type": "code",
      "source": [
        "# 학습 시 사용한 모델의 구조를 먼저 불러옵니다. \n",
        "class vggNet(torch.nn.Module):\n",
        "    def __init__(self, vgg, target_num, use_pretrained = True):\n",
        "        super().__init__()\n",
        "        self.vgg = vgg\n",
        "        self.vgg.classifier[6] = torch.nn.Linear(in_features = 4096, out_features = target_num)\n",
        "    def forward(self, x):\n",
        "        out = self.vgg(x)\n",
        "        return out\n",
        "\n",
        "model = vggNet(vgg, target_num = 10)\n",
        "# 모델의 구조를 불러옵니다. \n",
        "# 이 모델은 아무것도 들어있지 않은 빈 통입니다. \n",
        "# 이제 이 빈 통에 모델 상태를 채워넣어야겠죠 ? "
      ],
      "metadata": {
        "id": "w5-MIMpq7pQt"
      },
      "execution_count": null,
      "outputs": []
    },
    {
      "cell_type": "code",
      "source": [
        "# 저장한 모델의 상태를 불러오기\n",
        "state_dict = torch.load(\"model이 저장된 file 경로\")"
      ],
      "metadata": {
        "id": "vGrH9nob7qRR"
      },
      "execution_count": null,
      "outputs": []
    },
    {
      "cell_type": "code",
      "source": [
        "# 모델 구조에 모델 상태를 채워넣기\n",
        "model.load_state_dict(state_dict)\n",
        "\n",
        "# 이렇게까지 하면, 저장한 모델을 불러오는 것까지는 끝났습니다. \n",
        "# 이 모델을 사용해서 검증 테스트를 진행하거나, 모델 배포를 진행한다면 \n",
        "# 무조건 모델을 추론 모드로 변경해주어야합니다. "
      ],
      "metadata": {
        "id": "HCrQjAdl7rm2"
      },
      "execution_count": null,
      "outputs": []
    }
  ]
}