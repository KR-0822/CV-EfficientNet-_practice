{
  "nbformat": 4,
  "nbformat_minor": 0,
  "metadata": {
    "colab": {
      "provenance": [],
      "machine_shape": "hm",
      "authorship_tag": "ABX9TyPU+KwlOJUNXetPeVvA/HKt",
      "include_colab_link": true
    },
    "kernelspec": {
      "name": "python3",
      "display_name": "Python 3"
    },
    "language_info": {
      "name": "python"
    },
    "accelerator": "GPU",
    "gpuClass": "standard"
  },
  "cells": [
    {
      "cell_type": "markdown",
      "metadata": {
        "id": "view-in-github",
        "colab_type": "text"
      },
      "source": [
        "<a href=\"https://colab.research.google.com/github/KR-0822/CV_practice/blob/main/sketch_classification_prac_efficient_checkpoint.ipynb\" target=\"_parent\"><img src=\"https://colab.research.google.com/assets/colab-badge.svg\" alt=\"Open In Colab\"/></a>"
      ]
    },
    {
      "cell_type": "code",
      "source": [
        "from google.colab import drive\n",
        "drive.mount(\"/content/gdrive\")\n",
        "\n",
        "%cd /content/gdrive/MyDrive/\n"
      ],
      "metadata": {
        "colab": {
          "base_uri": "https://localhost:8080/"
        },
        "id": "DQ_lnE148FWs",
        "outputId": "bed9ff6c-814d-4d71-e764-d4cc997beaf5"
      },
      "execution_count": null,
      "outputs": [
        {
          "output_type": "stream",
          "name": "stdout",
          "text": [
            "Mounted at /content/gdrive\n",
            "/content/gdrive/MyDrive\n"
          ]
        }
      ]
    },
    {
      "cell_type": "code",
      "source": [
        "!nvidia-smi"
      ],
      "metadata": {
        "colab": {
          "base_uri": "https://localhost:8080/"
        },
        "id": "jtLJk6E88Gh_",
        "outputId": "2d7f212b-3f0c-48c8-f01e-058a2257a601"
      },
      "execution_count": null,
      "outputs": [
        {
          "output_type": "stream",
          "name": "stdout",
          "text": [
            "Tue Mar 21 23:30:35 2023       \n",
            "+-----------------------------------------------------------------------------+\n",
            "| NVIDIA-SMI 525.85.12    Driver Version: 525.85.12    CUDA Version: 12.0     |\n",
            "|-------------------------------+----------------------+----------------------+\n",
            "| GPU  Name        Persistence-M| Bus-Id        Disp.A | Volatile Uncorr. ECC |\n",
            "| Fan  Temp  Perf  Pwr:Usage/Cap|         Memory-Usage | GPU-Util  Compute M. |\n",
            "|                               |                      |               MIG M. |\n",
            "|===============================+======================+======================|\n",
            "|   0  Tesla T4            Off  | 00000000:00:04.0 Off |                    0 |\n",
            "| N/A   46C    P0    25W /  70W |      0MiB / 15360MiB |      0%      Default |\n",
            "|                               |                      |                  N/A |\n",
            "+-------------------------------+----------------------+----------------------+\n",
            "                                                                               \n",
            "+-----------------------------------------------------------------------------+\n",
            "| Processes:                                                                  |\n",
            "|  GPU   GI   CI        PID   Type   Process name                  GPU Memory |\n",
            "|        ID   ID                                                   Usage      |\n",
            "|=============================================================================|\n",
            "|  No running processes found                                                 |\n",
            "+-----------------------------------------------------------------------------+\n"
          ]
        }
      ]
    },
    {
      "cell_type": "code",
      "source": [
        "import tensorflow as tf\n",
        "tf.__version__"
      ],
      "metadata": {
        "colab": {
          "base_uri": "https://localhost:8080/",
          "height": 35
        },
        "id": "pDwADT5M8Gur",
        "outputId": "e6b786c4-0066-49a5-aaff-25dda306c985"
      },
      "execution_count": null,
      "outputs": [
        {
          "output_type": "execute_result",
          "data": {
            "text/plain": [
              "'2.11.0'"
            ],
            "application/vnd.google.colaboratory.intrinsic+json": {
              "type": "string"
            }
          },
          "metadata": {},
          "execution_count": 3
        }
      ]
    },
    {
      "cell_type": "code",
      "source": [
        "\n",
        "# re-size all the images to this\n",
        "IMAGE_SIZE = [224, 224]\n",
        "\n",
        "train_path = '/content/gdrive/MyDrive/AIHUB_IMAGEDATA/01.데이터/1.Training/TS1/L1_4'\n",
        "valid_path = '/content/gdrive/MyDrive/AIHUB_IMAGEDATA/01.데이터/2.Validation/Val/ABSTRACT_ILLUSTRATION/VS1/L1_4'\n"
      ],
      "metadata": {
        "id": "iOccrC148UUQ"
      },
      "execution_count": null,
      "outputs": []
    },
    {
      "cell_type": "code",
      "source": [
        "# merge 용\n",
        "'''\n",
        "import os\n",
        "import shutil\n",
        "\n",
        "def merge(scr_path, dir_path):\n",
        "  files = next(os.walk(scr_path))[2]\n",
        "  folders = next(os.walk(scr_path))[1]\n",
        "  for file in files: # Copy the files\n",
        "    scr_file = scr_path + \"/\" + file\n",
        "    dir_file = dir_path + \"/\" + file\n",
        "    if os.path.exists(dir_file): # Delete the old files if already exist\n",
        "      os.remove(dir_file)\n",
        "    shutil.copy(scr_file, dir_file)\n",
        "  for folder in folders: # Merge again with the subdirectories\n",
        "    scr_folder = scr_path + \"/\" + folder\n",
        "    dir_folder = dir_path + \"/\" + folder\n",
        "    if not os.path.exists(dir_folder): # Create the subdirectories if dont already exist\n",
        "      os.mkdir(dir_folder)\n",
        "    merge(scr_folder, dir_folder)\n",
        "\n",
        "path1 = \"/content/gdrive/MyDrive/AIHUB_IMAGEDATA/01.데이터/2.Validation/Val/ABSTRACT_PICTOGRAM/VS1/L1_4/L3_471\"\n",
        "path2 = \"/content/gdrive/MyDrive/AIHUB_IMAGEDATA/01.데이터/2.Validation/Val/ABSTRACT_ILLUSTRATION/VS1/L1_4/L3_471\"\n",
        "\n",
        "merge(path1, path2)\n",
        "\n"
      ],
      "metadata": {
        "colab": {
          "base_uri": "https://localhost:8080/",
          "height": 137
        },
        "id": "7OyennHdNbmH",
        "outputId": "1dc2c05e-3fad-4580-e8da-8f74c2a56e20"
      },
      "execution_count": null,
      "outputs": [
        {
          "output_type": "error",
          "ename": "SyntaxError",
          "evalue": "ignored",
          "traceback": [
            "\u001b[0;36m  File \u001b[0;32m\"<ipython-input-6-05cbd5f3fd45>\"\u001b[0;36m, line \u001b[0;32m26\u001b[0m\n\u001b[0;31m    \u001b[0m\n\u001b[0m    ^\u001b[0m\n\u001b[0;31mSyntaxError\u001b[0m\u001b[0;31m:\u001b[0m EOF while scanning triple-quoted string literal\n"
          ]
        }
      ]
    },
    {
      "cell_type": "code",
      "source": [
        "# merge 용\n",
        "'''\n",
        "a = 471\n",
        "path0 = \"/content/gdrive/MyDrive/AIHUB_IMAGEDATA/01.데이터/2.Validation/Val/ABSTRACT_PICTOGRAM/VS1/L1_4/L3_\" + str(a)\n",
        "path0\n",
        "'''"
      ],
      "metadata": {
        "colab": {
          "base_uri": "https://localhost:8080/",
          "height": 54
        },
        "id": "dcNlYsFKTUdF",
        "outputId": "7288a490-9a8a-475e-dea4-b78b95eee8b0"
      },
      "execution_count": null,
      "outputs": [
        {
          "output_type": "execute_result",
          "data": {
            "text/plain": [
              "'\\na = 471\\npath0 = \"/content/gdrive/MyDrive/AIHUB_IMAGEDATA/01.데이터/2.Validation/Val/ABSTRACT_PICTOGRAM/VS1/L1_4/L3_\" + str(a)\\npath0\\n'"
            ],
            "application/vnd.google.colaboratory.intrinsic+json": {
              "type": "string"
            }
          },
          "metadata": {},
          "execution_count": 7
        }
      ]
    },
    {
      "cell_type": "code",
      "source": [
        "# merge 용\n",
        "#number = 471\n",
        "#for i in range(159): \n",
        "#    number = number +1 \n",
        "#    path1 = \"/content/gdrive/MyDrive/AIHUB_IMAGEDATA/01.데이터/2.Validation/Val/ABSTRACT_SKETCH/VS1/L1_4/L3_\" + str(number)\n",
        "#    path2 = \"/content/gdrive/MyDrive/AIHUB_IMAGEDATA/01.데이터/2.Validation/Val/ABSTRACT_ILLUSTRATION/VS1/L1_4/L3_\" + str(number)\n",
        "#    merge(path1, path2)"
      ],
      "metadata": {
        "id": "ah57RICWP4b2"
      },
      "execution_count": null,
      "outputs": []
    },
    {
      "cell_type": "code",
      "source": [
        "# import the libraries as shown below\n",
        "\n",
        "from tensorflow.keras.layers import Input, Lambda, Dense, Flatten\n",
        "from tensorflow.keras.models import Model\n",
        "from tensorflow.keras.applications.inception_v3 import InceptionV3\n",
        "from tensorflow.keras.applications.inception_v3 import InceptionV3\n",
        "from tensorflow.keras.applications import EfficientNetB0\n",
        "from tensorflow.keras.applications import ResNet50\n",
        "\n",
        "#from keras.applications.vgg16 import VGG16\n",
        "from tensorflow.keras.applications.resnet50 import preprocess_input\n",
        "from tensorflow.keras.applications.inception_v3 import preprocess_input\n",
        "\n",
        "import tensorflow as tf\n",
        "from tensorflow import keras\n",
        "\n",
        "\n",
        "from tensorflow.keras.preprocessing import image\n",
        "from tensorflow.keras.preprocessing.image import ImageDataGenerator,load_img\n",
        "from tensorflow.keras.models import Sequential\n",
        "import numpy as np\n",
        "from glob import glob\n",
        "#import matplotlib.pyplot as plt"
      ],
      "metadata": {
        "id": "AP9vYVfX9Uy3"
      },
      "execution_count": null,
      "outputs": []
    },
    {
      "cell_type": "code",
      "source": [
        "# Import the inception V3 library as shown below and add preprocessing layer to the front of VGG\n",
        "# Here we will be using imagenet weights\n",
        "#E_Net = EfficientNetB0(input_shape=IMAGE_SIZE + [3], include_top=False, weights='imagenet')\n",
        "\n",
        "ResNet= ResNet50(input_shape=IMAGE_SIZE + [3], weights='imagenet', include_top=False)\n"
      ],
      "metadata": {
        "colab": {
          "base_uri": "https://localhost:8080/"
        },
        "id": "a-Zap6nj8Xx7",
        "outputId": "52c350fc-9519-4e92-81e6-99a4fe60c665"
      },
      "execution_count": null,
      "outputs": [
        {
          "output_type": "stream",
          "name": "stdout",
          "text": [
            "Downloading data from https://storage.googleapis.com/tensorflow/keras-applications/resnet/resnet50_weights_tf_dim_ordering_tf_kernels_notop.h5\n",
            "94765736/94765736 [==============================] - 1s 0us/step\n"
          ]
        }
      ]
    },
    {
      "cell_type": "code",
      "source": [
        "# don't train existing weights\n",
        "\"\"\"\n",
        "for layer in inception.layers:\n",
        "    layer.trainable = False\n",
        "\"\"\""
      ],
      "metadata": {
        "colab": {
          "base_uri": "https://localhost:8080/",
          "height": 35
        },
        "id": "hLeIJ1qy9ZXF",
        "outputId": "6c07baf0-aa00-4f62-aecc-2c02c37e16f0"
      },
      "execution_count": null,
      "outputs": [
        {
          "output_type": "execute_result",
          "data": {
            "text/plain": [
              "'\\nfor layer in inception.layers:\\n    layer.trainable = False\\n'"
            ],
            "application/vnd.google.colaboratory.intrinsic+json": {
              "type": "string"
            }
          },
          "metadata": {},
          "execution_count": 7
        }
      ]
    },
    {
      "cell_type": "code",
      "source": [
        "  # useful for getting number of output classes\n",
        "folders = glob('/content/gdrive/MyDrive/AIHUB_IMAGEDATA/01.데이터/1.Training/TS1/L1_4/*')\n"
      ],
      "metadata": {
        "id": "Y7VHP5sx9axU"
      },
      "execution_count": null,
      "outputs": []
    },
    {
      "cell_type": "code",
      "source": [
        "print(folders)"
      ],
      "metadata": {
        "colab": {
          "base_uri": "https://localhost:8080/"
        },
        "id": "puw_twx19kat",
        "outputId": "0836da79-68e8-4a88-f612-b685b61c445a"
      },
      "execution_count": null,
      "outputs": [
        {
          "output_type": "stream",
          "name": "stdout",
          "text": [
            "['/content/gdrive/MyDrive/AIHUB_IMAGEDATA/01.데이터/1.Training/TS1/L1_4/L3_472', '/content/gdrive/MyDrive/AIHUB_IMAGEDATA/01.데이터/1.Training/TS1/L1_4/L3_471', '/content/gdrive/MyDrive/AIHUB_IMAGEDATA/01.데이터/1.Training/TS1/L1_4/L3_473', '/content/gdrive/MyDrive/AIHUB_IMAGEDATA/01.데이터/1.Training/TS1/L1_4/L3_474', '/content/gdrive/MyDrive/AIHUB_IMAGEDATA/01.데이터/1.Training/TS1/L1_4/L3_475', '/content/gdrive/MyDrive/AIHUB_IMAGEDATA/01.데이터/1.Training/TS1/L1_4/L3_476', '/content/gdrive/MyDrive/AIHUB_IMAGEDATA/01.데이터/1.Training/TS1/L1_4/L3_479', '/content/gdrive/MyDrive/AIHUB_IMAGEDATA/01.데이터/1.Training/TS1/L1_4/L3_477', '/content/gdrive/MyDrive/AIHUB_IMAGEDATA/01.데이터/1.Training/TS1/L1_4/L3_478', '/content/gdrive/MyDrive/AIHUB_IMAGEDATA/01.데이터/1.Training/TS1/L1_4/L3_480', '/content/gdrive/MyDrive/AIHUB_IMAGEDATA/01.데이터/1.Training/TS1/L1_4/L3_482', '/content/gdrive/MyDrive/AIHUB_IMAGEDATA/01.데이터/1.Training/TS1/L1_4/L3_483', '/content/gdrive/MyDrive/AIHUB_IMAGEDATA/01.데이터/1.Training/TS1/L1_4/L3_481', '/content/gdrive/MyDrive/AIHUB_IMAGEDATA/01.데이터/1.Training/TS1/L1_4/L3_484', '/content/gdrive/MyDrive/AIHUB_IMAGEDATA/01.데이터/1.Training/TS1/L1_4/L3_485', '/content/gdrive/MyDrive/AIHUB_IMAGEDATA/01.데이터/1.Training/TS1/L1_4/L3_487', '/content/gdrive/MyDrive/AIHUB_IMAGEDATA/01.데이터/1.Training/TS1/L1_4/L3_486', '/content/gdrive/MyDrive/AIHUB_IMAGEDATA/01.데이터/1.Training/TS1/L1_4/L3_488', '/content/gdrive/MyDrive/AIHUB_IMAGEDATA/01.데이터/1.Training/TS1/L1_4/L3_489', '/content/gdrive/MyDrive/AIHUB_IMAGEDATA/01.데이터/1.Training/TS1/L1_4/L3_490', '/content/gdrive/MyDrive/AIHUB_IMAGEDATA/01.데이터/1.Training/TS1/L1_4/L3_492', '/content/gdrive/MyDrive/AIHUB_IMAGEDATA/01.데이터/1.Training/TS1/L1_4/L3_491', '/content/gdrive/MyDrive/AIHUB_IMAGEDATA/01.데이터/1.Training/TS1/L1_4/L3_493', '/content/gdrive/MyDrive/AIHUB_IMAGEDATA/01.데이터/1.Training/TS1/L1_4/L3_494', '/content/gdrive/MyDrive/AIHUB_IMAGEDATA/01.데이터/1.Training/TS1/L1_4/L3_495', '/content/gdrive/MyDrive/AIHUB_IMAGEDATA/01.데이터/1.Training/TS1/L1_4/L3_497', '/content/gdrive/MyDrive/AIHUB_IMAGEDATA/01.데이터/1.Training/TS1/L1_4/L3_496', '/content/gdrive/MyDrive/AIHUB_IMAGEDATA/01.데이터/1.Training/TS1/L1_4/L3_498', '/content/gdrive/MyDrive/AIHUB_IMAGEDATA/01.데이터/1.Training/TS1/L1_4/L3_500', '/content/gdrive/MyDrive/AIHUB_IMAGEDATA/01.데이터/1.Training/TS1/L1_4/L3_499', '/content/gdrive/MyDrive/AIHUB_IMAGEDATA/01.데이터/1.Training/TS1/L1_4/L3_501', '/content/gdrive/MyDrive/AIHUB_IMAGEDATA/01.데이터/1.Training/TS1/L1_4/L3_502', '/content/gdrive/MyDrive/AIHUB_IMAGEDATA/01.데이터/1.Training/TS1/L1_4/L3_505', '/content/gdrive/MyDrive/AIHUB_IMAGEDATA/01.데이터/1.Training/TS1/L1_4/L3_504', '/content/gdrive/MyDrive/AIHUB_IMAGEDATA/01.데이터/1.Training/TS1/L1_4/L3_503', '/content/gdrive/MyDrive/AIHUB_IMAGEDATA/01.데이터/1.Training/TS1/L1_4/L3_507', '/content/gdrive/MyDrive/AIHUB_IMAGEDATA/01.데이터/1.Training/TS1/L1_4/L3_506', '/content/gdrive/MyDrive/AIHUB_IMAGEDATA/01.데이터/1.Training/TS1/L1_4/L3_508', '/content/gdrive/MyDrive/AIHUB_IMAGEDATA/01.데이터/1.Training/TS1/L1_4/L3_509', '/content/gdrive/MyDrive/AIHUB_IMAGEDATA/01.데이터/1.Training/TS1/L1_4/L3_510', '/content/gdrive/MyDrive/AIHUB_IMAGEDATA/01.데이터/1.Training/TS1/L1_4/L3_511', '/content/gdrive/MyDrive/AIHUB_IMAGEDATA/01.데이터/1.Training/TS1/L1_4/L3_512', '/content/gdrive/MyDrive/AIHUB_IMAGEDATA/01.데이터/1.Training/TS1/L1_4/L3_514', '/content/gdrive/MyDrive/AIHUB_IMAGEDATA/01.데이터/1.Training/TS1/L1_4/L3_513', '/content/gdrive/MyDrive/AIHUB_IMAGEDATA/01.데이터/1.Training/TS1/L1_4/L3_515', '/content/gdrive/MyDrive/AIHUB_IMAGEDATA/01.데이터/1.Training/TS1/L1_4/L3_518', '/content/gdrive/MyDrive/AIHUB_IMAGEDATA/01.데이터/1.Training/TS1/L1_4/L3_519', '/content/gdrive/MyDrive/AIHUB_IMAGEDATA/01.데이터/1.Training/TS1/L1_4/L3_516', '/content/gdrive/MyDrive/AIHUB_IMAGEDATA/01.데이터/1.Training/TS1/L1_4/L3_517', '/content/gdrive/MyDrive/AIHUB_IMAGEDATA/01.데이터/1.Training/TS1/L1_4/L3_521', '/content/gdrive/MyDrive/AIHUB_IMAGEDATA/01.데이터/1.Training/TS1/L1_4/L3_522', '/content/gdrive/MyDrive/AIHUB_IMAGEDATA/01.데이터/1.Training/TS1/L1_4/L3_520', '/content/gdrive/MyDrive/AIHUB_IMAGEDATA/01.데이터/1.Training/TS1/L1_4/L3_523', '/content/gdrive/MyDrive/AIHUB_IMAGEDATA/01.데이터/1.Training/TS1/L1_4/L3_524', '/content/gdrive/MyDrive/AIHUB_IMAGEDATA/01.데이터/1.Training/TS1/L1_4/L3_525', '/content/gdrive/MyDrive/AIHUB_IMAGEDATA/01.데이터/1.Training/TS1/L1_4/L3_526', '/content/gdrive/MyDrive/AIHUB_IMAGEDATA/01.데이터/1.Training/TS1/L1_4/L3_527', '/content/gdrive/MyDrive/AIHUB_IMAGEDATA/01.데이터/1.Training/TS1/L1_4/L3_529', '/content/gdrive/MyDrive/AIHUB_IMAGEDATA/01.데이터/1.Training/TS1/L1_4/L3_528', '/content/gdrive/MyDrive/AIHUB_IMAGEDATA/01.데이터/1.Training/TS1/L1_4/L3_530', '/content/gdrive/MyDrive/AIHUB_IMAGEDATA/01.데이터/1.Training/TS1/L1_4/L3_531', '/content/gdrive/MyDrive/AIHUB_IMAGEDATA/01.데이터/1.Training/TS1/L1_4/L3_532', '/content/gdrive/MyDrive/AIHUB_IMAGEDATA/01.데이터/1.Training/TS1/L1_4/L3_533', '/content/gdrive/MyDrive/AIHUB_IMAGEDATA/01.데이터/1.Training/TS1/L1_4/L3_534', '/content/gdrive/MyDrive/AIHUB_IMAGEDATA/01.데이터/1.Training/TS1/L1_4/L3_535', '/content/gdrive/MyDrive/AIHUB_IMAGEDATA/01.데이터/1.Training/TS1/L1_4/L3_537', '/content/gdrive/MyDrive/AIHUB_IMAGEDATA/01.데이터/1.Training/TS1/L1_4/L3_536', '/content/gdrive/MyDrive/AIHUB_IMAGEDATA/01.데이터/1.Training/TS1/L1_4/L3_539', '/content/gdrive/MyDrive/AIHUB_IMAGEDATA/01.데이터/1.Training/TS1/L1_4/L3_538', '/content/gdrive/MyDrive/AIHUB_IMAGEDATA/01.데이터/1.Training/TS1/L1_4/L3_540', '/content/gdrive/MyDrive/AIHUB_IMAGEDATA/01.데이터/1.Training/TS1/L1_4/L3_542', '/content/gdrive/MyDrive/AIHUB_IMAGEDATA/01.데이터/1.Training/TS1/L1_4/L3_541', '/content/gdrive/MyDrive/AIHUB_IMAGEDATA/01.데이터/1.Training/TS1/L1_4/L3_543', '/content/gdrive/MyDrive/AIHUB_IMAGEDATA/01.데이터/1.Training/TS1/L1_4/L3_544', '/content/gdrive/MyDrive/AIHUB_IMAGEDATA/01.데이터/1.Training/TS1/L1_4/L3_545', '/content/gdrive/MyDrive/AIHUB_IMAGEDATA/01.데이터/1.Training/TS1/L1_4/L3_547', '/content/gdrive/MyDrive/AIHUB_IMAGEDATA/01.데이터/1.Training/TS1/L1_4/L3_546', '/content/gdrive/MyDrive/AIHUB_IMAGEDATA/01.데이터/1.Training/TS1/L1_4/L3_548', '/content/gdrive/MyDrive/AIHUB_IMAGEDATA/01.데이터/1.Training/TS1/L1_4/L3_549', '/content/gdrive/MyDrive/AIHUB_IMAGEDATA/01.데이터/1.Training/TS1/L1_4/L3_550', '/content/gdrive/MyDrive/AIHUB_IMAGEDATA/01.데이터/1.Training/TS1/L1_4/L3_553', '/content/gdrive/MyDrive/AIHUB_IMAGEDATA/01.데이터/1.Training/TS1/L1_4/L3_551', '/content/gdrive/MyDrive/AIHUB_IMAGEDATA/01.데이터/1.Training/TS1/L1_4/L3_552', '/content/gdrive/MyDrive/AIHUB_IMAGEDATA/01.데이터/1.Training/TS1/L1_4/L3_555', '/content/gdrive/MyDrive/AIHUB_IMAGEDATA/01.데이터/1.Training/TS1/L1_4/L3_554', '/content/gdrive/MyDrive/AIHUB_IMAGEDATA/01.데이터/1.Training/TS1/L1_4/L3_556', '/content/gdrive/MyDrive/AIHUB_IMAGEDATA/01.데이터/1.Training/TS1/L1_4/L3_557', '/content/gdrive/MyDrive/AIHUB_IMAGEDATA/01.데이터/1.Training/TS1/L1_4/L3_558', '/content/gdrive/MyDrive/AIHUB_IMAGEDATA/01.데이터/1.Training/TS1/L1_4/L3_559', '/content/gdrive/MyDrive/AIHUB_IMAGEDATA/01.데이터/1.Training/TS1/L1_4/L3_560', '/content/gdrive/MyDrive/AIHUB_IMAGEDATA/01.데이터/1.Training/TS1/L1_4/L3_561', '/content/gdrive/MyDrive/AIHUB_IMAGEDATA/01.데이터/1.Training/TS1/L1_4/L3_562', '/content/gdrive/MyDrive/AIHUB_IMAGEDATA/01.데이터/1.Training/TS1/L1_4/L3_564', '/content/gdrive/MyDrive/AIHUB_IMAGEDATA/01.데이터/1.Training/TS1/L1_4/L3_563', '/content/gdrive/MyDrive/AIHUB_IMAGEDATA/01.데이터/1.Training/TS1/L1_4/L3_565', '/content/gdrive/MyDrive/AIHUB_IMAGEDATA/01.데이터/1.Training/TS1/L1_4/L3_566', '/content/gdrive/MyDrive/AIHUB_IMAGEDATA/01.데이터/1.Training/TS1/L1_4/L3_568', '/content/gdrive/MyDrive/AIHUB_IMAGEDATA/01.데이터/1.Training/TS1/L1_4/L3_567', '/content/gdrive/MyDrive/AIHUB_IMAGEDATA/01.데이터/1.Training/TS1/L1_4/L3_569', '/content/gdrive/MyDrive/AIHUB_IMAGEDATA/01.데이터/1.Training/TS1/L1_4/L3_570', '/content/gdrive/MyDrive/AIHUB_IMAGEDATA/01.데이터/1.Training/TS1/L1_4/L3_571', '/content/gdrive/MyDrive/AIHUB_IMAGEDATA/01.데이터/1.Training/TS1/L1_4/L3_572', '/content/gdrive/MyDrive/AIHUB_IMAGEDATA/01.데이터/1.Training/TS1/L1_4/L3_573', '/content/gdrive/MyDrive/AIHUB_IMAGEDATA/01.데이터/1.Training/TS1/L1_4/L3_574', '/content/gdrive/MyDrive/AIHUB_IMAGEDATA/01.데이터/1.Training/TS1/L1_4/L3_575', '/content/gdrive/MyDrive/AIHUB_IMAGEDATA/01.데이터/1.Training/TS1/L1_4/L3_577', '/content/gdrive/MyDrive/AIHUB_IMAGEDATA/01.데이터/1.Training/TS1/L1_4/L3_576', '/content/gdrive/MyDrive/AIHUB_IMAGEDATA/01.데이터/1.Training/TS1/L1_4/L3_578', '/content/gdrive/MyDrive/AIHUB_IMAGEDATA/01.데이터/1.Training/TS1/L1_4/L3_581', '/content/gdrive/MyDrive/AIHUB_IMAGEDATA/01.데이터/1.Training/TS1/L1_4/L3_580', '/content/gdrive/MyDrive/AIHUB_IMAGEDATA/01.데이터/1.Training/TS1/L1_4/L3_579', '/content/gdrive/MyDrive/AIHUB_IMAGEDATA/01.데이터/1.Training/TS1/L1_4/L3_582', '/content/gdrive/MyDrive/AIHUB_IMAGEDATA/01.데이터/1.Training/TS1/L1_4/L3_585', '/content/gdrive/MyDrive/AIHUB_IMAGEDATA/01.데이터/1.Training/TS1/L1_4/L3_586', '/content/gdrive/MyDrive/AIHUB_IMAGEDATA/01.데이터/1.Training/TS1/L1_4/L3_583', '/content/gdrive/MyDrive/AIHUB_IMAGEDATA/01.데이터/1.Training/TS1/L1_4/L3_584', '/content/gdrive/MyDrive/AIHUB_IMAGEDATA/01.데이터/1.Training/TS1/L1_4/L3_587', '/content/gdrive/MyDrive/AIHUB_IMAGEDATA/01.데이터/1.Training/TS1/L1_4/L3_588', '/content/gdrive/MyDrive/AIHUB_IMAGEDATA/01.데이터/1.Training/TS1/L1_4/L3_589', '/content/gdrive/MyDrive/AIHUB_IMAGEDATA/01.데이터/1.Training/TS1/L1_4/L3_590', '/content/gdrive/MyDrive/AIHUB_IMAGEDATA/01.데이터/1.Training/TS1/L1_4/L3_591', '/content/gdrive/MyDrive/AIHUB_IMAGEDATA/01.데이터/1.Training/TS1/L1_4/L3_592', '/content/gdrive/MyDrive/AIHUB_IMAGEDATA/01.데이터/1.Training/TS1/L1_4/L3_593', '/content/gdrive/MyDrive/AIHUB_IMAGEDATA/01.데이터/1.Training/TS1/L1_4/L3_594', '/content/gdrive/MyDrive/AIHUB_IMAGEDATA/01.데이터/1.Training/TS1/L1_4/L3_595', '/content/gdrive/MyDrive/AIHUB_IMAGEDATA/01.데이터/1.Training/TS1/L1_4/L3_596', '/content/gdrive/MyDrive/AIHUB_IMAGEDATA/01.데이터/1.Training/TS1/L1_4/L3_597', '/content/gdrive/MyDrive/AIHUB_IMAGEDATA/01.데이터/1.Training/TS1/L1_4/L3_598', '/content/gdrive/MyDrive/AIHUB_IMAGEDATA/01.데이터/1.Training/TS1/L1_4/L3_599', '/content/gdrive/MyDrive/AIHUB_IMAGEDATA/01.데이터/1.Training/TS1/L1_4/L3_601', '/content/gdrive/MyDrive/AIHUB_IMAGEDATA/01.데이터/1.Training/TS1/L1_4/L3_600', '/content/gdrive/MyDrive/AIHUB_IMAGEDATA/01.데이터/1.Training/TS1/L1_4/L3_602', '/content/gdrive/MyDrive/AIHUB_IMAGEDATA/01.데이터/1.Training/TS1/L1_4/L3_604', '/content/gdrive/MyDrive/AIHUB_IMAGEDATA/01.데이터/1.Training/TS1/L1_4/L3_603', '/content/gdrive/MyDrive/AIHUB_IMAGEDATA/01.데이터/1.Training/TS1/L1_4/L3_607', '/content/gdrive/MyDrive/AIHUB_IMAGEDATA/01.데이터/1.Training/TS1/L1_4/L3_606', '/content/gdrive/MyDrive/AIHUB_IMAGEDATA/01.데이터/1.Training/TS1/L1_4/L3_605', '/content/gdrive/MyDrive/AIHUB_IMAGEDATA/01.데이터/1.Training/TS1/L1_4/L3_610', '/content/gdrive/MyDrive/AIHUB_IMAGEDATA/01.데이터/1.Training/TS1/L1_4/L3_609', '/content/gdrive/MyDrive/AIHUB_IMAGEDATA/01.데이터/1.Training/TS1/L1_4/L3_608', '/content/gdrive/MyDrive/AIHUB_IMAGEDATA/01.데이터/1.Training/TS1/L1_4/L3_611', '/content/gdrive/MyDrive/AIHUB_IMAGEDATA/01.데이터/1.Training/TS1/L1_4/L3_612', '/content/gdrive/MyDrive/AIHUB_IMAGEDATA/01.데이터/1.Training/TS1/L1_4/L3_614', '/content/gdrive/MyDrive/AIHUB_IMAGEDATA/01.데이터/1.Training/TS1/L1_4/L3_613', '/content/gdrive/MyDrive/AIHUB_IMAGEDATA/01.데이터/1.Training/TS1/L1_4/L3_615', '/content/gdrive/MyDrive/AIHUB_IMAGEDATA/01.데이터/1.Training/TS1/L1_4/L3_616', '/content/gdrive/MyDrive/AIHUB_IMAGEDATA/01.데이터/1.Training/TS1/L1_4/L3_617', '/content/gdrive/MyDrive/AIHUB_IMAGEDATA/01.데이터/1.Training/TS1/L1_4/L3_618', '/content/gdrive/MyDrive/AIHUB_IMAGEDATA/01.데이터/1.Training/TS1/L1_4/L3_620', '/content/gdrive/MyDrive/AIHUB_IMAGEDATA/01.데이터/1.Training/TS1/L1_4/L3_619', '/content/gdrive/MyDrive/AIHUB_IMAGEDATA/01.데이터/1.Training/TS1/L1_4/L3_622', '/content/gdrive/MyDrive/AIHUB_IMAGEDATA/01.데이터/1.Training/TS1/L1_4/L3_623', '/content/gdrive/MyDrive/AIHUB_IMAGEDATA/01.데이터/1.Training/TS1/L1_4/L3_621', '/content/gdrive/MyDrive/AIHUB_IMAGEDATA/01.데이터/1.Training/TS1/L1_4/L3_624', '/content/gdrive/MyDrive/AIHUB_IMAGEDATA/01.데이터/1.Training/TS1/L1_4/L3_625', '/content/gdrive/MyDrive/AIHUB_IMAGEDATA/01.데이터/1.Training/TS1/L1_4/L3_626', '/content/gdrive/MyDrive/AIHUB_IMAGEDATA/01.데이터/1.Training/TS1/L1_4/L3_627', '/content/gdrive/MyDrive/AIHUB_IMAGEDATA/01.데이터/1.Training/TS1/L1_4/L3_628', '/content/gdrive/MyDrive/AIHUB_IMAGEDATA/01.데이터/1.Training/TS1/L1_4/L3_629']\n"
          ]
        }
      ]
    },
    {
      "cell_type": "code",
      "source": [
        "# our layers - you can add more if you want\n",
        "x = Flatten()(ResNet.output)\n"
      ],
      "metadata": {
        "id": "iZug0RkW9ecF"
      },
      "execution_count": null,
      "outputs": []
    },
    {
      "cell_type": "code",
      "source": [
        "prediction = Dense(len(folders), activation='softmax')(x)\n",
        "\n",
        "# create a model object\n",
        "model = Model(inputs=ResNet.input, outputs=prediction)"
      ],
      "metadata": {
        "id": "qnygDd1O9qBk"
      },
      "execution_count": null,
      "outputs": []
    },
    {
      "cell_type": "code",
      "source": [
        "model.summary()\n"
      ],
      "metadata": {
        "colab": {
          "base_uri": "https://localhost:8080/"
        },
        "id": "NGAgh2GZ9rfq",
        "outputId": "e5ca2424-d771-4df7-ebd1-3aeed1752b3a"
      },
      "execution_count": null,
      "outputs": [
        {
          "output_type": "stream",
          "name": "stdout",
          "text": [
            "Model: \"model_2\"\n",
            "__________________________________________________________________________________________________\n",
            " Layer (type)                   Output Shape         Param #     Connected to                     \n",
            "==================================================================================================\n",
            " input_3 (InputLayer)           [(None, 224, 224, 3  0           []                               \n",
            "                                )]                                                                \n",
            "                                                                                                  \n",
            " conv1_pad (ZeroPadding2D)      (None, 230, 230, 3)  0           ['input_3[0][0]']                \n",
            "                                                                                                  \n",
            " conv1_conv (Conv2D)            (None, 112, 112, 64  9472        ['conv1_pad[0][0]']              \n",
            "                                )                                                                 \n",
            "                                                                                                  \n",
            " conv1_bn (BatchNormalization)  (None, 112, 112, 64  256         ['conv1_conv[0][0]']             \n",
            "                                )                                                                 \n",
            "                                                                                                  \n",
            " conv1_relu (Activation)        (None, 112, 112, 64  0           ['conv1_bn[0][0]']               \n",
            "                                )                                                                 \n",
            "                                                                                                  \n",
            " pool1_pad (ZeroPadding2D)      (None, 114, 114, 64  0           ['conv1_relu[0][0]']             \n",
            "                                )                                                                 \n",
            "                                                                                                  \n",
            " pool1_pool (MaxPooling2D)      (None, 56, 56, 64)   0           ['pool1_pad[0][0]']              \n",
            "                                                                                                  \n",
            " conv2_block1_1_conv (Conv2D)   (None, 56, 56, 64)   4160        ['pool1_pool[0][0]']             \n",
            "                                                                                                  \n",
            " conv2_block1_1_bn (BatchNormal  (None, 56, 56, 64)  256         ['conv2_block1_1_conv[0][0]']    \n",
            " ization)                                                                                         \n",
            "                                                                                                  \n",
            " conv2_block1_1_relu (Activatio  (None, 56, 56, 64)  0           ['conv2_block1_1_bn[0][0]']      \n",
            " n)                                                                                               \n",
            "                                                                                                  \n",
            " conv2_block1_2_conv (Conv2D)   (None, 56, 56, 64)   36928       ['conv2_block1_1_relu[0][0]']    \n",
            "                                                                                                  \n",
            " conv2_block1_2_bn (BatchNormal  (None, 56, 56, 64)  256         ['conv2_block1_2_conv[0][0]']    \n",
            " ization)                                                                                         \n",
            "                                                                                                  \n",
            " conv2_block1_2_relu (Activatio  (None, 56, 56, 64)  0           ['conv2_block1_2_bn[0][0]']      \n",
            " n)                                                                                               \n",
            "                                                                                                  \n",
            " conv2_block1_0_conv (Conv2D)   (None, 56, 56, 256)  16640       ['pool1_pool[0][0]']             \n",
            "                                                                                                  \n",
            " conv2_block1_3_conv (Conv2D)   (None, 56, 56, 256)  16640       ['conv2_block1_2_relu[0][0]']    \n",
            "                                                                                                  \n",
            " conv2_block1_0_bn (BatchNormal  (None, 56, 56, 256)  1024       ['conv2_block1_0_conv[0][0]']    \n",
            " ization)                                                                                         \n",
            "                                                                                                  \n",
            " conv2_block1_3_bn (BatchNormal  (None, 56, 56, 256)  1024       ['conv2_block1_3_conv[0][0]']    \n",
            " ization)                                                                                         \n",
            "                                                                                                  \n",
            " conv2_block1_add (Add)         (None, 56, 56, 256)  0           ['conv2_block1_0_bn[0][0]',      \n",
            "                                                                  'conv2_block1_3_bn[0][0]']      \n",
            "                                                                                                  \n",
            " conv2_block1_out (Activation)  (None, 56, 56, 256)  0           ['conv2_block1_add[0][0]']       \n",
            "                                                                                                  \n",
            " conv2_block2_1_conv (Conv2D)   (None, 56, 56, 64)   16448       ['conv2_block1_out[0][0]']       \n",
            "                                                                                                  \n",
            " conv2_block2_1_bn (BatchNormal  (None, 56, 56, 64)  256         ['conv2_block2_1_conv[0][0]']    \n",
            " ization)                                                                                         \n",
            "                                                                                                  \n",
            " conv2_block2_1_relu (Activatio  (None, 56, 56, 64)  0           ['conv2_block2_1_bn[0][0]']      \n",
            " n)                                                                                               \n",
            "                                                                                                  \n",
            " conv2_block2_2_conv (Conv2D)   (None, 56, 56, 64)   36928       ['conv2_block2_1_relu[0][0]']    \n",
            "                                                                                                  \n",
            " conv2_block2_2_bn (BatchNormal  (None, 56, 56, 64)  256         ['conv2_block2_2_conv[0][0]']    \n",
            " ization)                                                                                         \n",
            "                                                                                                  \n",
            " conv2_block2_2_relu (Activatio  (None, 56, 56, 64)  0           ['conv2_block2_2_bn[0][0]']      \n",
            " n)                                                                                               \n",
            "                                                                                                  \n",
            " conv2_block2_3_conv (Conv2D)   (None, 56, 56, 256)  16640       ['conv2_block2_2_relu[0][0]']    \n",
            "                                                                                                  \n",
            " conv2_block2_3_bn (BatchNormal  (None, 56, 56, 256)  1024       ['conv2_block2_3_conv[0][0]']    \n",
            " ization)                                                                                         \n",
            "                                                                                                  \n",
            " conv2_block2_add (Add)         (None, 56, 56, 256)  0           ['conv2_block1_out[0][0]',       \n",
            "                                                                  'conv2_block2_3_bn[0][0]']      \n",
            "                                                                                                  \n",
            " conv2_block2_out (Activation)  (None, 56, 56, 256)  0           ['conv2_block2_add[0][0]']       \n",
            "                                                                                                  \n",
            " conv2_block3_1_conv (Conv2D)   (None, 56, 56, 64)   16448       ['conv2_block2_out[0][0]']       \n",
            "                                                                                                  \n",
            " conv2_block3_1_bn (BatchNormal  (None, 56, 56, 64)  256         ['conv2_block3_1_conv[0][0]']    \n",
            " ization)                                                                                         \n",
            "                                                                                                  \n",
            " conv2_block3_1_relu (Activatio  (None, 56, 56, 64)  0           ['conv2_block3_1_bn[0][0]']      \n",
            " n)                                                                                               \n",
            "                                                                                                  \n",
            " conv2_block3_2_conv (Conv2D)   (None, 56, 56, 64)   36928       ['conv2_block3_1_relu[0][0]']    \n",
            "                                                                                                  \n",
            " conv2_block3_2_bn (BatchNormal  (None, 56, 56, 64)  256         ['conv2_block3_2_conv[0][0]']    \n",
            " ization)                                                                                         \n",
            "                                                                                                  \n",
            " conv2_block3_2_relu (Activatio  (None, 56, 56, 64)  0           ['conv2_block3_2_bn[0][0]']      \n",
            " n)                                                                                               \n",
            "                                                                                                  \n",
            " conv2_block3_3_conv (Conv2D)   (None, 56, 56, 256)  16640       ['conv2_block3_2_relu[0][0]']    \n",
            "                                                                                                  \n",
            " conv2_block3_3_bn (BatchNormal  (None, 56, 56, 256)  1024       ['conv2_block3_3_conv[0][0]']    \n",
            " ization)                                                                                         \n",
            "                                                                                                  \n",
            " conv2_block3_add (Add)         (None, 56, 56, 256)  0           ['conv2_block2_out[0][0]',       \n",
            "                                                                  'conv2_block3_3_bn[0][0]']      \n",
            "                                                                                                  \n",
            " conv2_block3_out (Activation)  (None, 56, 56, 256)  0           ['conv2_block3_add[0][0]']       \n",
            "                                                                                                  \n",
            " conv3_block1_1_conv (Conv2D)   (None, 28, 28, 128)  32896       ['conv2_block3_out[0][0]']       \n",
            "                                                                                                  \n",
            " conv3_block1_1_bn (BatchNormal  (None, 28, 28, 128)  512        ['conv3_block1_1_conv[0][0]']    \n",
            " ization)                                                                                         \n",
            "                                                                                                  \n",
            " conv3_block1_1_relu (Activatio  (None, 28, 28, 128)  0          ['conv3_block1_1_bn[0][0]']      \n",
            " n)                                                                                               \n",
            "                                                                                                  \n",
            " conv3_block1_2_conv (Conv2D)   (None, 28, 28, 128)  147584      ['conv3_block1_1_relu[0][0]']    \n",
            "                                                                                                  \n",
            " conv3_block1_2_bn (BatchNormal  (None, 28, 28, 128)  512        ['conv3_block1_2_conv[0][0]']    \n",
            " ization)                                                                                         \n",
            "                                                                                                  \n",
            " conv3_block1_2_relu (Activatio  (None, 28, 28, 128)  0          ['conv3_block1_2_bn[0][0]']      \n",
            " n)                                                                                               \n",
            "                                                                                                  \n",
            " conv3_block1_0_conv (Conv2D)   (None, 28, 28, 512)  131584      ['conv2_block3_out[0][0]']       \n",
            "                                                                                                  \n",
            " conv3_block1_3_conv (Conv2D)   (None, 28, 28, 512)  66048       ['conv3_block1_2_relu[0][0]']    \n",
            "                                                                                                  \n",
            " conv3_block1_0_bn (BatchNormal  (None, 28, 28, 512)  2048       ['conv3_block1_0_conv[0][0]']    \n",
            " ization)                                                                                         \n",
            "                                                                                                  \n",
            " conv3_block1_3_bn (BatchNormal  (None, 28, 28, 512)  2048       ['conv3_block1_3_conv[0][0]']    \n",
            " ization)                                                                                         \n",
            "                                                                                                  \n",
            " conv3_block1_add (Add)         (None, 28, 28, 512)  0           ['conv3_block1_0_bn[0][0]',      \n",
            "                                                                  'conv3_block1_3_bn[0][0]']      \n",
            "                                                                                                  \n",
            " conv3_block1_out (Activation)  (None, 28, 28, 512)  0           ['conv3_block1_add[0][0]']       \n",
            "                                                                                                  \n",
            " conv3_block2_1_conv (Conv2D)   (None, 28, 28, 128)  65664       ['conv3_block1_out[0][0]']       \n",
            "                                                                                                  \n",
            " conv3_block2_1_bn (BatchNormal  (None, 28, 28, 128)  512        ['conv3_block2_1_conv[0][0]']    \n",
            " ization)                                                                                         \n",
            "                                                                                                  \n",
            " conv3_block2_1_relu (Activatio  (None, 28, 28, 128)  0          ['conv3_block2_1_bn[0][0]']      \n",
            " n)                                                                                               \n",
            "                                                                                                  \n",
            " conv3_block2_2_conv (Conv2D)   (None, 28, 28, 128)  147584      ['conv3_block2_1_relu[0][0]']    \n",
            "                                                                                                  \n",
            " conv3_block2_2_bn (BatchNormal  (None, 28, 28, 128)  512        ['conv3_block2_2_conv[0][0]']    \n",
            " ization)                                                                                         \n",
            "                                                                                                  \n",
            " conv3_block2_2_relu (Activatio  (None, 28, 28, 128)  0          ['conv3_block2_2_bn[0][0]']      \n",
            " n)                                                                                               \n",
            "                                                                                                  \n",
            " conv3_block2_3_conv (Conv2D)   (None, 28, 28, 512)  66048       ['conv3_block2_2_relu[0][0]']    \n",
            "                                                                                                  \n",
            " conv3_block2_3_bn (BatchNormal  (None, 28, 28, 512)  2048       ['conv3_block2_3_conv[0][0]']    \n",
            " ization)                                                                                         \n",
            "                                                                                                  \n",
            " conv3_block2_add (Add)         (None, 28, 28, 512)  0           ['conv3_block1_out[0][0]',       \n",
            "                                                                  'conv3_block2_3_bn[0][0]']      \n",
            "                                                                                                  \n",
            " conv3_block2_out (Activation)  (None, 28, 28, 512)  0           ['conv3_block2_add[0][0]']       \n",
            "                                                                                                  \n",
            " conv3_block3_1_conv (Conv2D)   (None, 28, 28, 128)  65664       ['conv3_block2_out[0][0]']       \n",
            "                                                                                                  \n",
            " conv3_block3_1_bn (BatchNormal  (None, 28, 28, 128)  512        ['conv3_block3_1_conv[0][0]']    \n",
            " ization)                                                                                         \n",
            "                                                                                                  \n",
            " conv3_block3_1_relu (Activatio  (None, 28, 28, 128)  0          ['conv3_block3_1_bn[0][0]']      \n",
            " n)                                                                                               \n",
            "                                                                                                  \n",
            " conv3_block3_2_conv (Conv2D)   (None, 28, 28, 128)  147584      ['conv3_block3_1_relu[0][0]']    \n",
            "                                                                                                  \n",
            " conv3_block3_2_bn (BatchNormal  (None, 28, 28, 128)  512        ['conv3_block3_2_conv[0][0]']    \n",
            " ization)                                                                                         \n",
            "                                                                                                  \n",
            " conv3_block3_2_relu (Activatio  (None, 28, 28, 128)  0          ['conv3_block3_2_bn[0][0]']      \n",
            " n)                                                                                               \n",
            "                                                                                                  \n",
            " conv3_block3_3_conv (Conv2D)   (None, 28, 28, 512)  66048       ['conv3_block3_2_relu[0][0]']    \n",
            "                                                                                                  \n",
            " conv3_block3_3_bn (BatchNormal  (None, 28, 28, 512)  2048       ['conv3_block3_3_conv[0][0]']    \n",
            " ization)                                                                                         \n",
            "                                                                                                  \n",
            " conv3_block3_add (Add)         (None, 28, 28, 512)  0           ['conv3_block2_out[0][0]',       \n",
            "                                                                  'conv3_block3_3_bn[0][0]']      \n",
            "                                                                                                  \n",
            " conv3_block3_out (Activation)  (None, 28, 28, 512)  0           ['conv3_block3_add[0][0]']       \n",
            "                                                                                                  \n",
            " conv3_block4_1_conv (Conv2D)   (None, 28, 28, 128)  65664       ['conv3_block3_out[0][0]']       \n",
            "                                                                                                  \n",
            " conv3_block4_1_bn (BatchNormal  (None, 28, 28, 128)  512        ['conv3_block4_1_conv[0][0]']    \n",
            " ization)                                                                                         \n",
            "                                                                                                  \n",
            " conv3_block4_1_relu (Activatio  (None, 28, 28, 128)  0          ['conv3_block4_1_bn[0][0]']      \n",
            " n)                                                                                               \n",
            "                                                                                                  \n",
            " conv3_block4_2_conv (Conv2D)   (None, 28, 28, 128)  147584      ['conv3_block4_1_relu[0][0]']    \n",
            "                                                                                                  \n",
            " conv3_block4_2_bn (BatchNormal  (None, 28, 28, 128)  512        ['conv3_block4_2_conv[0][0]']    \n",
            " ization)                                                                                         \n",
            "                                                                                                  \n",
            " conv3_block4_2_relu (Activatio  (None, 28, 28, 128)  0          ['conv3_block4_2_bn[0][0]']      \n",
            " n)                                                                                               \n",
            "                                                                                                  \n",
            " conv3_block4_3_conv (Conv2D)   (None, 28, 28, 512)  66048       ['conv3_block4_2_relu[0][0]']    \n",
            "                                                                                                  \n",
            " conv3_block4_3_bn (BatchNormal  (None, 28, 28, 512)  2048       ['conv3_block4_3_conv[0][0]']    \n",
            " ization)                                                                                         \n",
            "                                                                                                  \n",
            " conv3_block4_add (Add)         (None, 28, 28, 512)  0           ['conv3_block3_out[0][0]',       \n",
            "                                                                  'conv3_block4_3_bn[0][0]']      \n",
            "                                                                                                  \n",
            " conv3_block4_out (Activation)  (None, 28, 28, 512)  0           ['conv3_block4_add[0][0]']       \n",
            "                                                                                                  \n",
            " conv4_block1_1_conv (Conv2D)   (None, 14, 14, 256)  131328      ['conv3_block4_out[0][0]']       \n",
            "                                                                                                  \n",
            " conv4_block1_1_bn (BatchNormal  (None, 14, 14, 256)  1024       ['conv4_block1_1_conv[0][0]']    \n",
            " ization)                                                                                         \n",
            "                                                                                                  \n",
            " conv4_block1_1_relu (Activatio  (None, 14, 14, 256)  0          ['conv4_block1_1_bn[0][0]']      \n",
            " n)                                                                                               \n",
            "                                                                                                  \n",
            " conv4_block1_2_conv (Conv2D)   (None, 14, 14, 256)  590080      ['conv4_block1_1_relu[0][0]']    \n",
            "                                                                                                  \n",
            " conv4_block1_2_bn (BatchNormal  (None, 14, 14, 256)  1024       ['conv4_block1_2_conv[0][0]']    \n",
            " ization)                                                                                         \n",
            "                                                                                                  \n",
            " conv4_block1_2_relu (Activatio  (None, 14, 14, 256)  0          ['conv4_block1_2_bn[0][0]']      \n",
            " n)                                                                                               \n",
            "                                                                                                  \n",
            " conv4_block1_0_conv (Conv2D)   (None, 14, 14, 1024  525312      ['conv3_block4_out[0][0]']       \n",
            "                                )                                                                 \n",
            "                                                                                                  \n",
            " conv4_block1_3_conv (Conv2D)   (None, 14, 14, 1024  263168      ['conv4_block1_2_relu[0][0]']    \n",
            "                                )                                                                 \n",
            "                                                                                                  \n",
            " conv4_block1_0_bn (BatchNormal  (None, 14, 14, 1024  4096       ['conv4_block1_0_conv[0][0]']    \n",
            " ization)                       )                                                                 \n",
            "                                                                                                  \n",
            " conv4_block1_3_bn (BatchNormal  (None, 14, 14, 1024  4096       ['conv4_block1_3_conv[0][0]']    \n",
            " ization)                       )                                                                 \n",
            "                                                                                                  \n",
            " conv4_block1_add (Add)         (None, 14, 14, 1024  0           ['conv4_block1_0_bn[0][0]',      \n",
            "                                )                                 'conv4_block1_3_bn[0][0]']      \n",
            "                                                                                                  \n",
            " conv4_block1_out (Activation)  (None, 14, 14, 1024  0           ['conv4_block1_add[0][0]']       \n",
            "                                )                                                                 \n",
            "                                                                                                  \n",
            " conv4_block2_1_conv (Conv2D)   (None, 14, 14, 256)  262400      ['conv4_block1_out[0][0]']       \n",
            "                                                                                                  \n",
            " conv4_block2_1_bn (BatchNormal  (None, 14, 14, 256)  1024       ['conv4_block2_1_conv[0][0]']    \n",
            " ization)                                                                                         \n",
            "                                                                                                  \n",
            " conv4_block2_1_relu (Activatio  (None, 14, 14, 256)  0          ['conv4_block2_1_bn[0][0]']      \n",
            " n)                                                                                               \n",
            "                                                                                                  \n",
            " conv4_block2_2_conv (Conv2D)   (None, 14, 14, 256)  590080      ['conv4_block2_1_relu[0][0]']    \n",
            "                                                                                                  \n",
            " conv4_block2_2_bn (BatchNormal  (None, 14, 14, 256)  1024       ['conv4_block2_2_conv[0][0]']    \n",
            " ization)                                                                                         \n",
            "                                                                                                  \n",
            " conv4_block2_2_relu (Activatio  (None, 14, 14, 256)  0          ['conv4_block2_2_bn[0][0]']      \n",
            " n)                                                                                               \n",
            "                                                                                                  \n",
            " conv4_block2_3_conv (Conv2D)   (None, 14, 14, 1024  263168      ['conv4_block2_2_relu[0][0]']    \n",
            "                                )                                                                 \n",
            "                                                                                                  \n",
            " conv4_block2_3_bn (BatchNormal  (None, 14, 14, 1024  4096       ['conv4_block2_3_conv[0][0]']    \n",
            " ization)                       )                                                                 \n",
            "                                                                                                  \n",
            " conv4_block2_add (Add)         (None, 14, 14, 1024  0           ['conv4_block1_out[0][0]',       \n",
            "                                )                                 'conv4_block2_3_bn[0][0]']      \n",
            "                                                                                                  \n",
            " conv4_block2_out (Activation)  (None, 14, 14, 1024  0           ['conv4_block2_add[0][0]']       \n",
            "                                )                                                                 \n",
            "                                                                                                  \n",
            " conv4_block3_1_conv (Conv2D)   (None, 14, 14, 256)  262400      ['conv4_block2_out[0][0]']       \n",
            "                                                                                                  \n",
            " conv4_block3_1_bn (BatchNormal  (None, 14, 14, 256)  1024       ['conv4_block3_1_conv[0][0]']    \n",
            " ization)                                                                                         \n",
            "                                                                                                  \n",
            " conv4_block3_1_relu (Activatio  (None, 14, 14, 256)  0          ['conv4_block3_1_bn[0][0]']      \n",
            " n)                                                                                               \n",
            "                                                                                                  \n",
            " conv4_block3_2_conv (Conv2D)   (None, 14, 14, 256)  590080      ['conv4_block3_1_relu[0][0]']    \n",
            "                                                                                                  \n",
            " conv4_block3_2_bn (BatchNormal  (None, 14, 14, 256)  1024       ['conv4_block3_2_conv[0][0]']    \n",
            " ization)                                                                                         \n",
            "                                                                                                  \n",
            " conv4_block3_2_relu (Activatio  (None, 14, 14, 256)  0          ['conv4_block3_2_bn[0][0]']      \n",
            " n)                                                                                               \n",
            "                                                                                                  \n",
            " conv4_block3_3_conv (Conv2D)   (None, 14, 14, 1024  263168      ['conv4_block3_2_relu[0][0]']    \n",
            "                                )                                                                 \n",
            "                                                                                                  \n",
            " conv4_block3_3_bn (BatchNormal  (None, 14, 14, 1024  4096       ['conv4_block3_3_conv[0][0]']    \n",
            " ization)                       )                                                                 \n",
            "                                                                                                  \n",
            " conv4_block3_add (Add)         (None, 14, 14, 1024  0           ['conv4_block2_out[0][0]',       \n",
            "                                )                                 'conv4_block3_3_bn[0][0]']      \n",
            "                                                                                                  \n",
            " conv4_block3_out (Activation)  (None, 14, 14, 1024  0           ['conv4_block3_add[0][0]']       \n",
            "                                )                                                                 \n",
            "                                                                                                  \n",
            " conv4_block4_1_conv (Conv2D)   (None, 14, 14, 256)  262400      ['conv4_block3_out[0][0]']       \n",
            "                                                                                                  \n",
            " conv4_block4_1_bn (BatchNormal  (None, 14, 14, 256)  1024       ['conv4_block4_1_conv[0][0]']    \n",
            " ization)                                                                                         \n",
            "                                                                                                  \n",
            " conv4_block4_1_relu (Activatio  (None, 14, 14, 256)  0          ['conv4_block4_1_bn[0][0]']      \n",
            " n)                                                                                               \n",
            "                                                                                                  \n",
            " conv4_block4_2_conv (Conv2D)   (None, 14, 14, 256)  590080      ['conv4_block4_1_relu[0][0]']    \n",
            "                                                                                                  \n",
            " conv4_block4_2_bn (BatchNormal  (None, 14, 14, 256)  1024       ['conv4_block4_2_conv[0][0]']    \n",
            " ization)                                                                                         \n",
            "                                                                                                  \n",
            " conv4_block4_2_relu (Activatio  (None, 14, 14, 256)  0          ['conv4_block4_2_bn[0][0]']      \n",
            " n)                                                                                               \n",
            "                                                                                                  \n",
            " conv4_block4_3_conv (Conv2D)   (None, 14, 14, 1024  263168      ['conv4_block4_2_relu[0][0]']    \n",
            "                                )                                                                 \n",
            "                                                                                                  \n",
            " conv4_block4_3_bn (BatchNormal  (None, 14, 14, 1024  4096       ['conv4_block4_3_conv[0][0]']    \n",
            " ization)                       )                                                                 \n",
            "                                                                                                  \n",
            " conv4_block4_add (Add)         (None, 14, 14, 1024  0           ['conv4_block3_out[0][0]',       \n",
            "                                )                                 'conv4_block4_3_bn[0][0]']      \n",
            "                                                                                                  \n",
            " conv4_block4_out (Activation)  (None, 14, 14, 1024  0           ['conv4_block4_add[0][0]']       \n",
            "                                )                                                                 \n",
            "                                                                                                  \n",
            " conv4_block5_1_conv (Conv2D)   (None, 14, 14, 256)  262400      ['conv4_block4_out[0][0]']       \n",
            "                                                                                                  \n",
            " conv4_block5_1_bn (BatchNormal  (None, 14, 14, 256)  1024       ['conv4_block5_1_conv[0][0]']    \n",
            " ization)                                                                                         \n",
            "                                                                                                  \n",
            " conv4_block5_1_relu (Activatio  (None, 14, 14, 256)  0          ['conv4_block5_1_bn[0][0]']      \n",
            " n)                                                                                               \n",
            "                                                                                                  \n",
            " conv4_block5_2_conv (Conv2D)   (None, 14, 14, 256)  590080      ['conv4_block5_1_relu[0][0]']    \n",
            "                                                                                                  \n",
            " conv4_block5_2_bn (BatchNormal  (None, 14, 14, 256)  1024       ['conv4_block5_2_conv[0][0]']    \n",
            " ization)                                                                                         \n",
            "                                                                                                  \n",
            " conv4_block5_2_relu (Activatio  (None, 14, 14, 256)  0          ['conv4_block5_2_bn[0][0]']      \n",
            " n)                                                                                               \n",
            "                                                                                                  \n",
            " conv4_block5_3_conv (Conv2D)   (None, 14, 14, 1024  263168      ['conv4_block5_2_relu[0][0]']    \n",
            "                                )                                                                 \n",
            "                                                                                                  \n",
            " conv4_block5_3_bn (BatchNormal  (None, 14, 14, 1024  4096       ['conv4_block5_3_conv[0][0]']    \n",
            " ization)                       )                                                                 \n",
            "                                                                                                  \n",
            " conv4_block5_add (Add)         (None, 14, 14, 1024  0           ['conv4_block4_out[0][0]',       \n",
            "                                )                                 'conv4_block5_3_bn[0][0]']      \n",
            "                                                                                                  \n",
            " conv4_block5_out (Activation)  (None, 14, 14, 1024  0           ['conv4_block5_add[0][0]']       \n",
            "                                )                                                                 \n",
            "                                                                                                  \n",
            " conv4_block6_1_conv (Conv2D)   (None, 14, 14, 256)  262400      ['conv4_block5_out[0][0]']       \n",
            "                                                                                                  \n",
            " conv4_block6_1_bn (BatchNormal  (None, 14, 14, 256)  1024       ['conv4_block6_1_conv[0][0]']    \n",
            " ization)                                                                                         \n",
            "                                                                                                  \n",
            " conv4_block6_1_relu (Activatio  (None, 14, 14, 256)  0          ['conv4_block6_1_bn[0][0]']      \n",
            " n)                                                                                               \n",
            "                                                                                                  \n",
            " conv4_block6_2_conv (Conv2D)   (None, 14, 14, 256)  590080      ['conv4_block6_1_relu[0][0]']    \n",
            "                                                                                                  \n",
            " conv4_block6_2_bn (BatchNormal  (None, 14, 14, 256)  1024       ['conv4_block6_2_conv[0][0]']    \n",
            " ization)                                                                                         \n",
            "                                                                                                  \n",
            " conv4_block6_2_relu (Activatio  (None, 14, 14, 256)  0          ['conv4_block6_2_bn[0][0]']      \n",
            " n)                                                                                               \n",
            "                                                                                                  \n",
            " conv4_block6_3_conv (Conv2D)   (None, 14, 14, 1024  263168      ['conv4_block6_2_relu[0][0]']    \n",
            "                                )                                                                 \n",
            "                                                                                                  \n",
            " conv4_block6_3_bn (BatchNormal  (None, 14, 14, 1024  4096       ['conv4_block6_3_conv[0][0]']    \n",
            " ization)                       )                                                                 \n",
            "                                                                                                  \n",
            " conv4_block6_add (Add)         (None, 14, 14, 1024  0           ['conv4_block5_out[0][0]',       \n",
            "                                )                                 'conv4_block6_3_bn[0][0]']      \n",
            "                                                                                                  \n",
            " conv4_block6_out (Activation)  (None, 14, 14, 1024  0           ['conv4_block6_add[0][0]']       \n",
            "                                )                                                                 \n",
            "                                                                                                  \n",
            " conv5_block1_1_conv (Conv2D)   (None, 7, 7, 512)    524800      ['conv4_block6_out[0][0]']       \n",
            "                                                                                                  \n",
            " conv5_block1_1_bn (BatchNormal  (None, 7, 7, 512)   2048        ['conv5_block1_1_conv[0][0]']    \n",
            " ization)                                                                                         \n",
            "                                                                                                  \n",
            " conv5_block1_1_relu (Activatio  (None, 7, 7, 512)   0           ['conv5_block1_1_bn[0][0]']      \n",
            " n)                                                                                               \n",
            "                                                                                                  \n",
            " conv5_block1_2_conv (Conv2D)   (None, 7, 7, 512)    2359808     ['conv5_block1_1_relu[0][0]']    \n",
            "                                                                                                  \n",
            " conv5_block1_2_bn (BatchNormal  (None, 7, 7, 512)   2048        ['conv5_block1_2_conv[0][0]']    \n",
            " ization)                                                                                         \n",
            "                                                                                                  \n",
            " conv5_block1_2_relu (Activatio  (None, 7, 7, 512)   0           ['conv5_block1_2_bn[0][0]']      \n",
            " n)                                                                                               \n",
            "                                                                                                  \n",
            " conv5_block1_0_conv (Conv2D)   (None, 7, 7, 2048)   2099200     ['conv4_block6_out[0][0]']       \n",
            "                                                                                                  \n",
            " conv5_block1_3_conv (Conv2D)   (None, 7, 7, 2048)   1050624     ['conv5_block1_2_relu[0][0]']    \n",
            "                                                                                                  \n",
            " conv5_block1_0_bn (BatchNormal  (None, 7, 7, 2048)  8192        ['conv5_block1_0_conv[0][0]']    \n",
            " ization)                                                                                         \n",
            "                                                                                                  \n",
            " conv5_block1_3_bn (BatchNormal  (None, 7, 7, 2048)  8192        ['conv5_block1_3_conv[0][0]']    \n",
            " ization)                                                                                         \n",
            "                                                                                                  \n",
            " conv5_block1_add (Add)         (None, 7, 7, 2048)   0           ['conv5_block1_0_bn[0][0]',      \n",
            "                                                                  'conv5_block1_3_bn[0][0]']      \n",
            "                                                                                                  \n",
            " conv5_block1_out (Activation)  (None, 7, 7, 2048)   0           ['conv5_block1_add[0][0]']       \n",
            "                                                                                                  \n",
            " conv5_block2_1_conv (Conv2D)   (None, 7, 7, 512)    1049088     ['conv5_block1_out[0][0]']       \n",
            "                                                                                                  \n",
            " conv5_block2_1_bn (BatchNormal  (None, 7, 7, 512)   2048        ['conv5_block2_1_conv[0][0]']    \n",
            " ization)                                                                                         \n",
            "                                                                                                  \n",
            " conv5_block2_1_relu (Activatio  (None, 7, 7, 512)   0           ['conv5_block2_1_bn[0][0]']      \n",
            " n)                                                                                               \n",
            "                                                                                                  \n",
            " conv5_block2_2_conv (Conv2D)   (None, 7, 7, 512)    2359808     ['conv5_block2_1_relu[0][0]']    \n",
            "                                                                                                  \n",
            " conv5_block2_2_bn (BatchNormal  (None, 7, 7, 512)   2048        ['conv5_block2_2_conv[0][0]']    \n",
            " ization)                                                                                         \n",
            "                                                                                                  \n",
            " conv5_block2_2_relu (Activatio  (None, 7, 7, 512)   0           ['conv5_block2_2_bn[0][0]']      \n",
            " n)                                                                                               \n",
            "                                                                                                  \n",
            " conv5_block2_3_conv (Conv2D)   (None, 7, 7, 2048)   1050624     ['conv5_block2_2_relu[0][0]']    \n",
            "                                                                                                  \n",
            " conv5_block2_3_bn (BatchNormal  (None, 7, 7, 2048)  8192        ['conv5_block2_3_conv[0][0]']    \n",
            " ization)                                                                                         \n",
            "                                                                                                  \n",
            " conv5_block2_add (Add)         (None, 7, 7, 2048)   0           ['conv5_block1_out[0][0]',       \n",
            "                                                                  'conv5_block2_3_bn[0][0]']      \n",
            "                                                                                                  \n",
            " conv5_block2_out (Activation)  (None, 7, 7, 2048)   0           ['conv5_block2_add[0][0]']       \n",
            "                                                                                                  \n",
            " conv5_block3_1_conv (Conv2D)   (None, 7, 7, 512)    1049088     ['conv5_block2_out[0][0]']       \n",
            "                                                                                                  \n",
            " conv5_block3_1_bn (BatchNormal  (None, 7, 7, 512)   2048        ['conv5_block3_1_conv[0][0]']    \n",
            " ization)                                                                                         \n",
            "                                                                                                  \n",
            " conv5_block3_1_relu (Activatio  (None, 7, 7, 512)   0           ['conv5_block3_1_bn[0][0]']      \n",
            " n)                                                                                               \n",
            "                                                                                                  \n",
            " conv5_block3_2_conv (Conv2D)   (None, 7, 7, 512)    2359808     ['conv5_block3_1_relu[0][0]']    \n",
            "                                                                                                  \n",
            " conv5_block3_2_bn (BatchNormal  (None, 7, 7, 512)   2048        ['conv5_block3_2_conv[0][0]']    \n",
            " ization)                                                                                         \n",
            "                                                                                                  \n",
            " conv5_block3_2_relu (Activatio  (None, 7, 7, 512)   0           ['conv5_block3_2_bn[0][0]']      \n",
            " n)                                                                                               \n",
            "                                                                                                  \n",
            " conv5_block3_3_conv (Conv2D)   (None, 7, 7, 2048)   1050624     ['conv5_block3_2_relu[0][0]']    \n",
            "                                                                                                  \n",
            " conv5_block3_3_bn (BatchNormal  (None, 7, 7, 2048)  8192        ['conv5_block3_3_conv[0][0]']    \n",
            " ization)                                                                                         \n",
            "                                                                                                  \n",
            " conv5_block3_add (Add)         (None, 7, 7, 2048)   0           ['conv5_block2_out[0][0]',       \n",
            "                                                                  'conv5_block3_3_bn[0][0]']      \n",
            "                                                                                                  \n",
            " conv5_block3_out (Activation)  (None, 7, 7, 2048)   0           ['conv5_block3_add[0][0]']       \n",
            "                                                                                                  \n",
            " flatten_2 (Flatten)            (None, 100352)       0           ['conv5_block3_out[0][0]']       \n",
            "                                                                                                  \n",
            " dense_2 (Dense)                (None, 159)          15956127    ['flatten_2[0][0]']              \n",
            "                                                                                                  \n",
            "==================================================================================================\n",
            "Total params: 39,543,839\n",
            "Trainable params: 39,490,719\n",
            "Non-trainable params: 53,120\n",
            "__________________________________________________________________________________________________\n"
          ]
        }
      ]
    },
    {
      "cell_type": "code",
      "source": [
        "# tell the model what cost and optimization method to use\n",
        "model.compile(\n",
        "  loss='categorical_crossentropy',\n",
        "  optimizer='adam',\n",
        "  metrics=['accuracy']\n",
        ")\n"
      ],
      "metadata": {
        "id": "ToT6jj369s2F"
      },
      "execution_count": null,
      "outputs": []
    },
    {
      "cell_type": "code",
      "source": [
        "# Use the Image Data Generator to import the images from the dataset\n",
        "from tensorflow.keras.preprocessing.image import ImageDataGenerator\n",
        "\n",
        "train_datagen = ImageDataGenerator(rescale = 1./255,\n",
        "                                   shear_range = 0.2,\n",
        "                                   zoom_range = 0.2,\n",
        "                                   horizontal_flip = True)\n",
        "\n",
        "test_datagen = ImageDataGenerator(rescale = 1./255)\n"
      ],
      "metadata": {
        "id": "3_tib2uq9vBC"
      },
      "execution_count": null,
      "outputs": []
    },
    {
      "cell_type": "code",
      "source": [
        "# Make sure you provide the same target size as initialied for the image size\n",
        "training_set = train_datagen.flow_from_directory(train_path,\n",
        "                                                 target_size = (224, 224),\n",
        "                                                 batch_size = 32,\n",
        "                                                 class_mode = 'categorical')\n"
      ],
      "metadata": {
        "colab": {
          "base_uri": "https://localhost:8080/"
        },
        "id": "8pUcJhUZ9vvp",
        "outputId": "c9535ed6-4ad0-4ecd-d8af-97955b91ab4f"
      },
      "execution_count": null,
      "outputs": [
        {
          "output_type": "stream",
          "name": "stdout",
          "text": [
            "Found 14600 images belonging to 159 classes.\n"
          ]
        }
      ]
    },
    {
      "cell_type": "code",
      "source": [
        "test_set = test_datagen.flow_from_directory(valid_path,\n",
        "                                            target_size = (224, 224),\n",
        "                                            batch_size = 32,\n",
        "                                            class_mode = 'categorical')"
      ],
      "metadata": {
        "colab": {
          "base_uri": "https://localhost:8080/"
        },
        "id": "ZdU9Dpai9vqK",
        "outputId": "b2ac6c1e-1b90-488d-f977-842adef49ac4"
      },
      "execution_count": null,
      "outputs": [
        {
          "output_type": "stream",
          "name": "stdout",
          "text": [
            "Found 9525 images belonging to 159 classes.\n"
          ]
        }
      ]
    },
    {
      "cell_type": "code",
      "source": [
        "# Create a callback that saves the model's weights\n",
        "import os\n",
        "batch_size = 32\n",
        "checkpoint_path = \"/content/gdrive/MyDrive/AIHUB_IMAGEDATA/model\"\n",
        "checkpoint_dir = os.path.dirname(checkpoint_path)\n",
        "cp_callback = tf.keras.callbacks.ModelCheckpoint(\n",
        "    filepath=checkpoint_path, \n",
        "    verbose=1, \n",
        "    save_weights_only=True,\n",
        "    save_freq=5*batch_size)"
      ],
      "metadata": {
        "id": "7EOhnOfYjLT0"
      },
      "execution_count": null,
      "outputs": []
    },
    {
      "cell_type": "code",
      "source": [
        "# fit the model\n",
        "# Run the cell. It will take some time to execute\n",
        "r = model.fit(\n",
        "  training_set,\n",
        "  validation_data=test_set,\n",
        "  epochs=50,\n",
        "  steps_per_epoch=len(training_set),\n",
        "  validation_steps=len(test_set),\n",
        "  callbacks=[cp_callback]\n",
        ")\n",
        "\n"
      ],
      "metadata": {
        "colab": {
          "base_uri": "https://localhost:8080/"
        },
        "id": "mmxZ7OJX9vhl",
        "outputId": "2de5101f-d4fb-42e5-af5c-35175295bc40"
      },
      "execution_count": null,
      "outputs": [
        {
          "output_type": "stream",
          "name": "stdout",
          "text": [
            "Epoch 1/50\n",
            "159/457 [=========>....................] - ETA: 4:58 - loss: 5.2920 - accuracy: 0.0666\n",
            "Epoch 1: saving model to /content/gdrive/MyDrive/AIHUB_IMAGEDATA/model\n",
            "319/457 [===================>..........] - ETA: 2:20 - loss: 4.4199 - accuracy: 0.1418\n",
            "Epoch 1: saving model to /content/gdrive/MyDrive/AIHUB_IMAGEDATA/model\n",
            "457/457 [==============================] - 628s 1s/step - loss: 3.9814 - accuracy: 0.1920 - val_loss: 9.1089 - val_accuracy: 0.0181\n",
            "Epoch 2/50\n",
            " 22/457 [>.............................] - ETA: 6:33 - loss: 2.4419 - accuracy: 0.3971\n",
            "Epoch 2: saving model to /content/gdrive/MyDrive/AIHUB_IMAGEDATA/model\n",
            "182/457 [==========>...................] - ETA: 4:38 - loss: 2.4466 - accuracy: 0.3936\n",
            "Epoch 2: saving model to /content/gdrive/MyDrive/AIHUB_IMAGEDATA/model\n",
            "342/457 [=====================>........] - ETA: 1:57 - loss: 2.3692 - accuracy: 0.4129\n",
            "Epoch 2: saving model to /content/gdrive/MyDrive/AIHUB_IMAGEDATA/model\n",
            "457/457 [==============================] - 602s 1s/step - loss: 2.2926 - accuracy: 0.4273 - val_loss: 10.9826 - val_accuracy: 0.0450\n",
            "Epoch 3/50\n",
            " 45/457 [=>............................] - ETA: 7:22 - loss: 1.7406 - accuracy: 0.5514\n",
            "Epoch 3: saving model to /content/gdrive/MyDrive/AIHUB_IMAGEDATA/model\n",
            "205/457 [============>.................] - ETA: 4:23 - loss: 1.7939 - accuracy: 0.5373\n",
            "Epoch 3: saving model to /content/gdrive/MyDrive/AIHUB_IMAGEDATA/model\n",
            "365/457 [======================>.......] - ETA: 1:34 - loss: 1.7834 - accuracy: 0.5391\n",
            "Epoch 3: saving model to /content/gdrive/MyDrive/AIHUB_IMAGEDATA/model\n",
            "457/457 [==============================] - 596s 1s/step - loss: 1.7582 - accuracy: 0.5432 - val_loss: 6.5146 - val_accuracy: 0.1594\n",
            "Epoch 4/50\n",
            " 68/457 [===>..........................] - ETA: 6:31 - loss: 1.4461 - accuracy: 0.6259\n",
            "Epoch 4: saving model to /content/gdrive/MyDrive/AIHUB_IMAGEDATA/model\n",
            "228/457 [=============>................] - ETA: 3:56 - loss: 1.4689 - accuracy: 0.6106\n",
            "Epoch 4: saving model to /content/gdrive/MyDrive/AIHUB_IMAGEDATA/model\n",
            "388/457 [========================>.....] - ETA: 1:10 - loss: 1.4585 - accuracy: 0.6118\n",
            "Epoch 4: saving model to /content/gdrive/MyDrive/AIHUB_IMAGEDATA/model\n",
            "457/457 [==============================] - 597s 1s/step - loss: 1.4516 - accuracy: 0.6123 - val_loss: 12.5826 - val_accuracy: 0.0466\n",
            "Epoch 5/50\n",
            " 91/457 [====>.........................] - ETA: 6:08 - loss: 1.1425 - accuracy: 0.6861\n",
            "Epoch 5: saving model to /content/gdrive/MyDrive/AIHUB_IMAGEDATA/model\n",
            "251/457 [===============>..............] - ETA: 3:30 - loss: 1.2047 - accuracy: 0.6720\n",
            "Epoch 5: saving model to /content/gdrive/MyDrive/AIHUB_IMAGEDATA/model\n",
            "411/457 [=========================>....] - ETA: 47s - loss: 1.2242 - accuracy: 0.6680\n",
            "Epoch 5: saving model to /content/gdrive/MyDrive/AIHUB_IMAGEDATA/model\n",
            "457/457 [==============================] - 597s 1s/step - loss: 1.2223 - accuracy: 0.6701 - val_loss: 10.2175 - val_accuracy: 0.1334\n",
            "Epoch 6/50\n",
            "114/457 [======>.......................] - ETA: 5:45 - loss: 0.9777 - accuracy: 0.7220\n",
            "Epoch 6: saving model to /content/gdrive/MyDrive/AIHUB_IMAGEDATA/model\n",
            "274/457 [================>.............] - ETA: 3:07 - loss: 1.0263 - accuracy: 0.7149\n",
            "Epoch 6: saving model to /content/gdrive/MyDrive/AIHUB_IMAGEDATA/model\n",
            "434/457 [===========================>..] - ETA: 23s - loss: 1.0386 - accuracy: 0.7126\n",
            "Epoch 6: saving model to /content/gdrive/MyDrive/AIHUB_IMAGEDATA/model\n",
            "457/457 [==============================] - 596s 1s/step - loss: 1.0343 - accuracy: 0.7136 - val_loss: 7.5168 - val_accuracy: 0.1862\n",
            "Epoch 7/50\n",
            "137/457 [=======>......................] - ETA: 5:31 - loss: 0.8739 - accuracy: 0.7521\n",
            "Epoch 7: saving model to /content/gdrive/MyDrive/AIHUB_IMAGEDATA/model\n",
            "297/457 [==================>...........] - ETA: 2:45 - loss: 0.9043 - accuracy: 0.7423\n",
            "Epoch 7: saving model to /content/gdrive/MyDrive/AIHUB_IMAGEDATA/model\n",
            "457/457 [==============================] - 600s 1s/step - loss: 0.9202 - accuracy: 0.7400 - val_loss: 11.7235 - val_accuracy: 0.0970\n",
            "Epoch 8/50\n",
            "\n",
            "Epoch 8: saving model to /content/gdrive/MyDrive/AIHUB_IMAGEDATA/model\n",
            "160/457 [=========>....................] - ETA: 5:01 - loss: 0.7570 - accuracy: 0.7818\n",
            "Epoch 8: saving model to /content/gdrive/MyDrive/AIHUB_IMAGEDATA/model\n",
            "320/457 [====================>.........] - ETA: 2:19 - loss: 0.7853 - accuracy: 0.7754\n",
            "Epoch 8: saving model to /content/gdrive/MyDrive/AIHUB_IMAGEDATA/model\n",
            "457/457 [==============================] - 595s 1s/step - loss: 0.8035 - accuracy: 0.7696 - val_loss: 13.9521 - val_accuracy: 0.1218\n",
            "Epoch 9/50\n",
            " 23/457 [>.............................] - ETA: 7:16 - loss: 0.6141 - accuracy: 0.8193\n",
            "Epoch 9: saving model to /content/gdrive/MyDrive/AIHUB_IMAGEDATA/model\n",
            "183/457 [===========>..................] - ETA: 4:45 - loss: 0.6408 - accuracy: 0.8105\n",
            "Epoch 9: saving model to /content/gdrive/MyDrive/AIHUB_IMAGEDATA/model\n",
            "343/457 [=====================>........] - ETA: 1:58 - loss: 0.6794 - accuracy: 0.8030\n",
            "Epoch 9: saving model to /content/gdrive/MyDrive/AIHUB_IMAGEDATA/model\n",
            "457/457 [==============================] - 603s 1s/step - loss: 0.6871 - accuracy: 0.8030 - val_loss: 9.9448 - val_accuracy: 0.1341\n",
            "Epoch 10/50\n",
            " 46/457 [==>...........................] - ETA: 6:54 - loss: 0.5446 - accuracy: 0.8288\n",
            "Epoch 10: saving model to /content/gdrive/MyDrive/AIHUB_IMAGEDATA/model\n",
            "206/457 [============>.................] - ETA: 4:16 - loss: 0.6191 - accuracy: 0.8181\n",
            "Epoch 10: saving model to /content/gdrive/MyDrive/AIHUB_IMAGEDATA/model\n",
            "366/457 [=======================>......] - ETA: 1:33 - loss: 0.6243 - accuracy: 0.8179\n",
            "Epoch 10: saving model to /content/gdrive/MyDrive/AIHUB_IMAGEDATA/model\n",
            "457/457 [==============================] - 597s 1s/step - loss: 0.6222 - accuracy: 0.8182 - val_loss: 10.4739 - val_accuracy: 0.1371\n",
            "Epoch 11/50\n",
            " 69/457 [===>..........................] - ETA: 6:31 - loss: 0.4863 - accuracy: 0.8601\n",
            "Epoch 11: saving model to /content/gdrive/MyDrive/AIHUB_IMAGEDATA/model\n",
            "229/457 [==============>...............] - ETA: 3:58 - loss: 0.5293 - accuracy: 0.8429\n",
            "Epoch 11: saving model to /content/gdrive/MyDrive/AIHUB_IMAGEDATA/model\n",
            "389/457 [========================>.....] - ETA: 1:10 - loss: 0.5388 - accuracy: 0.8454\n",
            "Epoch 11: saving model to /content/gdrive/MyDrive/AIHUB_IMAGEDATA/model\n",
            "457/457 [==============================] - 603s 1s/step - loss: 0.5470 - accuracy: 0.8442 - val_loss: 16.7171 - val_accuracy: 0.0908\n",
            "Epoch 12/50\n",
            " 92/457 [=====>........................] - ETA: 6:14 - loss: 0.4350 - accuracy: 0.8716\n",
            "Epoch 12: saving model to /content/gdrive/MyDrive/AIHUB_IMAGEDATA/model\n",
            "252/457 [===============>..............] - ETA: 3:29 - loss: 0.4939 - accuracy: 0.8522\n",
            "Epoch 12: saving model to /content/gdrive/MyDrive/AIHUB_IMAGEDATA/model\n",
            "412/457 [==========================>...] - ETA: 46s - loss: 0.5167 - accuracy: 0.8461\n",
            "Epoch 12: saving model to /content/gdrive/MyDrive/AIHUB_IMAGEDATA/model\n",
            "457/457 [==============================] - 597s 1s/step - loss: 0.5236 - accuracy: 0.8442 - val_loss: 10.6724 - val_accuracy: 0.1429\n",
            "Epoch 13/50\n",
            "115/457 [======>.......................] - ETA: 5:47 - loss: 0.4534 - accuracy: 0.8666\n",
            "Epoch 13: saving model to /content/gdrive/MyDrive/AIHUB_IMAGEDATA/model\n",
            "275/457 [=================>............] - ETA: 3:06 - loss: 0.4625 - accuracy: 0.8616\n",
            "Epoch 13: saving model to /content/gdrive/MyDrive/AIHUB_IMAGEDATA/model\n",
            "435/457 [===========================>..] - ETA: 22s - loss: 0.4683 - accuracy: 0.8584\n",
            "Epoch 13: saving model to /content/gdrive/MyDrive/AIHUB_IMAGEDATA/model\n",
            "457/457 [==============================] - 601s 1s/step - loss: 0.4719 - accuracy: 0.8575 - val_loss: 9.2476 - val_accuracy: 0.1862\n",
            "Epoch 14/50\n",
            " 67/457 [===>..........................] - ETA: 6:46 - loss: 0.3550 - accuracy: 0.9011"
          ]
        }
      ]
    },
    {
      "cell_type": "code",
      "source": [
        "# Save the entire model as a SavedModel.\n",
        "!mkdir -p saved_model\n",
        "model.save('saved_model/my_model')"
      ],
      "metadata": {
        "id": "Lj2u9UxvmicY"
      },
      "execution_count": null,
      "outputs": []
    },
    {
      "cell_type": "code",
      "source": [
        "# plot the loss\n",
        "import matplotlib.pyplot as plt\n",
        "plt.plot(r.history['loss'], label='train loss')\n",
        "plt.plot(r.history['val_loss'], label='val loss')\n",
        "plt.legend()\n",
        "plt.show()\n",
        "plt.savefig('LossVal_loss')\n",
        "\n",
        "# plot the accuracy\n",
        "plt.plot(r.history['accuracy'], label='train acc')\n",
        "plt.plot(r.history['val_accuracy'], label='val acc')\n",
        "plt.legend()\n",
        "plt.show()\n",
        "plt.savefig('AccVal_acc')\n"
      ],
      "metadata": {
        "id": "8MOqQWSo-AO4"
      },
      "execution_count": null,
      "outputs": []
    },
    {
      "cell_type": "code",
      "source": [
        "  torch.save(model.state_dict(), f\"/content/gdrive/MyDrive/AIHUB_IMAGEDATA/Result{e}.pth\")\n",
        "  torch.cuda.empty_cache() "
      ],
      "metadata": {
        "id": "bf3vi_3ahjk6"
      },
      "execution_count": null,
      "outputs": []
    },
    {
      "cell_type": "markdown",
      "source": [
        "아래는 모델저장 할때 체크"
      ],
      "metadata": {
        "id": "tBRoIO1wKXsk"
      }
    },
    {
      "cell_type": "code",
      "source": [
        "import matplotlib.pyplot as plt\n"
      ],
      "metadata": {
        "id": "f3-rwJUp9_Pj"
      },
      "execution_count": null,
      "outputs": []
    },
    {
      "cell_type": "code",
      "execution_count": null,
      "metadata": {
        "colab": {
          "base_uri": "https://localhost:8080/",
          "height": 394
        },
        "id": "HAhlcsDK7g_n",
        "outputId": "3f6ba12c-a1d5-4615-944e-87d56b1af41b"
      },
      "outputs": [
        {
          "output_type": "error",
          "ename": "ModuleNotFoundError",
          "evalue": "ignored",
          "traceback": [
            "\u001b[0;31m---------------------------------------------------------------------------\u001b[0m",
            "\u001b[0;31mModuleNotFoundError\u001b[0m                       Traceback (most recent call last)",
            "\u001b[0;32m<ipython-input-38-da9d99066a4c>\u001b[0m in \u001b[0;36m<module>\u001b[0;34m\u001b[0m\n\u001b[0;32m----> 1\u001b[0;31m \u001b[0;32mimport\u001b[0m \u001b[0mpytorch\u001b[0m\u001b[0;34m\u001b[0m\u001b[0;34m\u001b[0m\u001b[0m\n\u001b[0m\u001b[1;32m      2\u001b[0m \u001b[0moptimizer\u001b[0m \u001b[0;34m=\u001b[0m \u001b[0mtorch\u001b[0m\u001b[0;34m.\u001b[0m\u001b[0moptim\u001b[0m\u001b[0;34m.\u001b[0m\u001b[0mRAdam\u001b[0m\u001b[0;34m(\u001b[0m\u001b[0mmodel\u001b[0m\u001b[0;34m.\u001b[0m\u001b[0mparameters\u001b[0m\u001b[0;34m(\u001b[0m\u001b[0;34m)\u001b[0m\u001b[0;34m)\u001b[0m\u001b[0;34m\u001b[0m\u001b[0;34m\u001b[0m\u001b[0m\n\u001b[1;32m      3\u001b[0m \u001b[0mnum_epochs\u001b[0m \u001b[0;34m=\u001b[0m \u001b[0;36m10\u001b[0m\u001b[0;34m\u001b[0m\u001b[0;34m\u001b[0m\u001b[0m\n\u001b[1;32m      4\u001b[0m \u001b[0mbatch_size\u001b[0m \u001b[0;34m=\u001b[0m \u001b[0;36m32\u001b[0m\u001b[0;34m\u001b[0m\u001b[0;34m\u001b[0m\u001b[0m\n\u001b[1;32m      5\u001b[0m \u001b[0mloss_fn\u001b[0m \u001b[0;34m=\u001b[0m \u001b[0mtorch\u001b[0m\u001b[0;34m.\u001b[0m\u001b[0mnn\u001b[0m\u001b[0;34m.\u001b[0m\u001b[0mCrossEntropyLoss\u001b[0m\u001b[0;34m(\u001b[0m\u001b[0;34m)\u001b[0m \u001b[0;31m# 다중분류 손실객체\u001b[0m\u001b[0;34m\u001b[0m\u001b[0;34m\u001b[0m\u001b[0m\n",
            "\u001b[0;31mModuleNotFoundError\u001b[0m: No module named 'pytorch'",
            "",
            "\u001b[0;31m---------------------------------------------------------------------------\u001b[0;32m\nNOTE: If your import is failing due to a missing package, you can\nmanually install dependencies using either !pip or !apt.\n\nTo view examples of installing some common dependencies, click the\n\"Open Examples\" button below.\n\u001b[0;31m---------------------------------------------------------------------------\u001b[0m\n"
          ],
          "errorDetails": {
            "actions": [
              {
                "action": "open_url",
                "actionText": "Open Examples",
                "url": "/notebooks/snippets/importing_libraries.ipynb"
              }
            ]
          }
        }
      ],
      "source": [
        " pytorch\n",
        "optimizer = torch.optim.RAdam(model.parameters())\n",
        "num_epochs = 10\n",
        "batch_size = 32 \n",
        "loss_fn = torch.nn.CrossEntropyLoss() # 다중분류 손실객체\n",
        "\n",
        "def calc_accuracy(X,Y):\n",
        "    max_vals, max_indices = torch.max(X, 1)\n",
        "    train_acc = (max_indices == Y).sum().data.cpu().numpy()/max_indices.size()[0]\n",
        "    return train_acc\n",
        "\n",
        "for e in range(num_epochs):\n",
        "      train_acc = 0.0\n",
        "      test_acc = 0.0\n",
        "\n",
        "      model.train()\n",
        "      for batch_id, batch in enumerate(tqdm_notebook(train_dataloader)):\n",
        "          optimizer.zero_grad()\n",
        "          out = model(batch['img'])\n",
        "          loss = loss_fn(out, batch['y'])\n",
        "          loss.backward()\n",
        "          # torch.nn.utils.clip_grad_norm_(model.parameters(), max_grad_norm)\n",
        "          \n",
        "          optimizer.step()\n",
        "          # scheduler.step()  # Update learning rate schedule\n",
        "          train_acc += calc_accuracy(out, batch['y'])\n",
        "          if batch_id % 200 == 0:\n",
        "              print(\"epoch {} batch id {} loss {} train acc {}\".format(e+1, batch_id+1 , loss.data.cpu().numpy(), train_acc / (batch_id+1) ))\n",
        "      print(\"epoch {} train acc {}\".format(e+1, train_acc / (batch_id+1)))\n",
        "      \n",
        "      model.eval()\n",
        "      \n",
        "      for batch_id, batch in enumerate(tqdm_notebook(test_dataloader)):\n",
        "          out = model(batch['img'])    \n",
        "          test_acc += calc_accuracy(out, batch['y'])\n",
        "\n",
        "      print(\"epoch {} test acc {}\".format(e+1, test_acc / (batch_id+1)))\n",
        "      # torch 모델 저장 ==================================================================\n",
        "      torch.save(model.state_dict(), f\"/content/gdrive/MyDrive/AIHUB_IMAGEDATA/Result{e}.pth\")\n",
        "      torch.cuda.empty_cache() \n",
        "\n"
      ]
    },
    {
      "cell_type": "code",
      "source": [
        "# ex ) FILE_NAME = f\"모델을 저장할 경로/\" + f\"모델 저장 이름\" + f\"확장자\"\n",
        "FILE_NAME = \"/content/gdrive/MyDrive/AIHUB_IMAGEDATA/model.pth\"\n",
        "\n",
        "\n",
        "\n",
        "# 모델 상태만 저장하는 방식 \n",
        "# model의 상태는 stated_dict이라는, 모델 내부 딕셔너리 객체에 전부 저장됩니다. \n",
        "# 그래서 하기 코드로 모델을 저장합니다. \n",
        "torch.save(model.state_dict(), FILE_NAME )"
      ],
      "metadata": {
        "id": "BJq3pjAV7nDe"
      },
      "execution_count": null,
      "outputs": []
    },
    {
      "cell_type": "code",
      "source": [
        "# 학습 시 사용한 모델의 구조를 먼저 불러옵니다. \n",
        "class vggNet(torch.nn.Module):\n",
        "    def __init__(self, vgg, target_num, use_pretrained = True):\n",
        "        super().__init__()\n",
        "        self.vgg = vgg\n",
        "        self.vgg.classifier[6] = torch.nn.Linear(in_features = 4096, out_features = target_num)\n",
        "    def forward(self, x):\n",
        "        out = self.vgg(x)\n",
        "        return out\n",
        "\n",
        "model = vggNet(vgg, target_num = 10)\n",
        "# 모델의 구조를 불러옵니다. \n",
        "# 이 모델은 아무것도 들어있지 않은 빈 통입니다. \n",
        "# 이제 이 빈 통에 모델 상태를 채워넣어야겠죠 ? "
      ],
      "metadata": {
        "id": "w5-MIMpq7pQt"
      },
      "execution_count": null,
      "outputs": []
    },
    {
      "cell_type": "code",
      "source": [
        "# 저장한 모델의 상태를 불러오기\n",
        "state_dict = torch.load(\"model이 저장된 file 경로\")"
      ],
      "metadata": {
        "id": "vGrH9nob7qRR"
      },
      "execution_count": null,
      "outputs": []
    },
    {
      "cell_type": "code",
      "source": [
        "# 모델 구조에 모델 상태를 채워넣기\n",
        "model.load_state_dict(state_dict)\n",
        "\n",
        "# 이렇게까지 하면, 저장한 모델을 불러오는 것까지는 끝났습니다. \n",
        "# 이 모델을 사용해서 검증 테스트를 진행하거나, 모델 배포를 진행한다면 \n",
        "# 무조건 모델을 추론 모드로 변경해주어야합니다. "
      ],
      "metadata": {
        "id": "HCrQjAdl7rm2"
      },
      "execution_count": null,
      "outputs": []
    }
  ]
}